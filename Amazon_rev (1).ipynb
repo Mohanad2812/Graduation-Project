{
  "nbformat": 4,
  "nbformat_minor": 0,
  "metadata": {
    "colab": {
      "name": "Amazon_rev.ipynb",
      "provenance": [],
      "collapsed_sections": []
    },
    "kernelspec": {
      "name": "python3",
      "display_name": "Python 3"
    },
    "language_info": {
      "name": "python"
    }
  },
  "cells": [
    {
      "cell_type": "code",
      "metadata": {
        "colab": {
          "base_uri": "https://localhost:8080/"
        },
        "id": "yes6Fi2T46H-",
        "outputId": "e193aeb4-8660-41d1-aa12-61b25dd85f5d"
      },
      "source": [
        "import nltk\n",
        "nltk.download('all')"
      ],
      "execution_count": null,
      "outputs": [
        {
          "output_type": "stream",
          "name": "stdout",
          "text": [
            "[nltk_data] Downloading collection 'all'\n",
            "[nltk_data]    | \n",
            "[nltk_data]    | Downloading package abc to /root/nltk_data...\n",
            "[nltk_data]    |   Unzipping corpora/abc.zip.\n",
            "[nltk_data]    | Downloading package alpino to /root/nltk_data...\n",
            "[nltk_data]    |   Unzipping corpora/alpino.zip.\n",
            "[nltk_data]    | Downloading package averaged_perceptron_tagger to\n",
            "[nltk_data]    |     /root/nltk_data...\n",
            "[nltk_data]    |   Unzipping taggers/averaged_perceptron_tagger.zip.\n",
            "[nltk_data]    | Downloading package averaged_perceptron_tagger_ru to\n",
            "[nltk_data]    |     /root/nltk_data...\n",
            "[nltk_data]    |   Unzipping\n",
            "[nltk_data]    |       taggers/averaged_perceptron_tagger_ru.zip.\n",
            "[nltk_data]    | Downloading package basque_grammars to\n",
            "[nltk_data]    |     /root/nltk_data...\n",
            "[nltk_data]    |   Unzipping grammars/basque_grammars.zip.\n",
            "[nltk_data]    | Downloading package biocreative_ppi to\n",
            "[nltk_data]    |     /root/nltk_data...\n",
            "[nltk_data]    |   Unzipping corpora/biocreative_ppi.zip.\n",
            "[nltk_data]    | Downloading package bllip_wsj_no_aux to\n",
            "[nltk_data]    |     /root/nltk_data...\n",
            "[nltk_data]    |   Unzipping models/bllip_wsj_no_aux.zip.\n",
            "[nltk_data]    | Downloading package book_grammars to\n",
            "[nltk_data]    |     /root/nltk_data...\n",
            "[nltk_data]    |   Unzipping grammars/book_grammars.zip.\n",
            "[nltk_data]    | Downloading package brown to /root/nltk_data...\n",
            "[nltk_data]    |   Unzipping corpora/brown.zip.\n",
            "[nltk_data]    | Downloading package brown_tei to /root/nltk_data...\n",
            "[nltk_data]    |   Unzipping corpora/brown_tei.zip.\n",
            "[nltk_data]    | Downloading package cess_cat to /root/nltk_data...\n",
            "[nltk_data]    |   Unzipping corpora/cess_cat.zip.\n",
            "[nltk_data]    | Downloading package cess_esp to /root/nltk_data...\n",
            "[nltk_data]    |   Unzipping corpora/cess_esp.zip.\n",
            "[nltk_data]    | Downloading package chat80 to /root/nltk_data...\n",
            "[nltk_data]    |   Unzipping corpora/chat80.zip.\n",
            "[nltk_data]    | Downloading package city_database to\n",
            "[nltk_data]    |     /root/nltk_data...\n",
            "[nltk_data]    |   Unzipping corpora/city_database.zip.\n",
            "[nltk_data]    | Downloading package cmudict to /root/nltk_data...\n",
            "[nltk_data]    |   Unzipping corpora/cmudict.zip.\n",
            "[nltk_data]    | Downloading package comparative_sentences to\n",
            "[nltk_data]    |     /root/nltk_data...\n",
            "[nltk_data]    |   Unzipping corpora/comparative_sentences.zip.\n",
            "[nltk_data]    | Downloading package comtrans to /root/nltk_data...\n",
            "[nltk_data]    | Downloading package conll2000 to /root/nltk_data...\n",
            "[nltk_data]    |   Unzipping corpora/conll2000.zip.\n",
            "[nltk_data]    | Downloading package conll2002 to /root/nltk_data...\n",
            "[nltk_data]    |   Unzipping corpora/conll2002.zip.\n",
            "[nltk_data]    | Downloading package conll2007 to /root/nltk_data...\n",
            "[nltk_data]    | Downloading package crubadan to /root/nltk_data...\n",
            "[nltk_data]    |   Unzipping corpora/crubadan.zip.\n",
            "[nltk_data]    | Downloading package dependency_treebank to\n",
            "[nltk_data]    |     /root/nltk_data...\n",
            "[nltk_data]    |   Unzipping corpora/dependency_treebank.zip.\n",
            "[nltk_data]    | Downloading package dolch to /root/nltk_data...\n",
            "[nltk_data]    |   Unzipping corpora/dolch.zip.\n",
            "[nltk_data]    | Downloading package europarl_raw to\n",
            "[nltk_data]    |     /root/nltk_data...\n",
            "[nltk_data]    |   Unzipping corpora/europarl_raw.zip.\n",
            "[nltk_data]    | Downloading package extended_omw to\n",
            "[nltk_data]    |     /root/nltk_data...\n",
            "[nltk_data]    |   Unzipping corpora/extended_omw.zip.\n",
            "[nltk_data]    | Downloading package floresta to /root/nltk_data...\n",
            "[nltk_data]    |   Unzipping corpora/floresta.zip.\n",
            "[nltk_data]    | Downloading package framenet_v15 to\n",
            "[nltk_data]    |     /root/nltk_data...\n",
            "[nltk_data]    |   Unzipping corpora/framenet_v15.zip.\n",
            "[nltk_data]    | Downloading package framenet_v17 to\n",
            "[nltk_data]    |     /root/nltk_data...\n",
            "[nltk_data]    |   Unzipping corpora/framenet_v17.zip.\n",
            "[nltk_data]    | Downloading package gazetteers to /root/nltk_data...\n",
            "[nltk_data]    |   Unzipping corpora/gazetteers.zip.\n",
            "[nltk_data]    | Downloading package genesis to /root/nltk_data...\n",
            "[nltk_data]    |   Unzipping corpora/genesis.zip.\n",
            "[nltk_data]    | Downloading package gutenberg to /root/nltk_data...\n",
            "[nltk_data]    |   Unzipping corpora/gutenberg.zip.\n",
            "[nltk_data]    | Downloading package ieer to /root/nltk_data...\n",
            "[nltk_data]    |   Unzipping corpora/ieer.zip.\n",
            "[nltk_data]    | Downloading package inaugural to /root/nltk_data...\n",
            "[nltk_data]    |   Unzipping corpora/inaugural.zip.\n",
            "[nltk_data]    | Downloading package indian to /root/nltk_data...\n",
            "[nltk_data]    |   Unzipping corpora/indian.zip.\n",
            "[nltk_data]    | Downloading package jeita to /root/nltk_data...\n",
            "[nltk_data]    | Downloading package kimmo to /root/nltk_data...\n",
            "[nltk_data]    |   Unzipping corpora/kimmo.zip.\n",
            "[nltk_data]    | Downloading package knbc to /root/nltk_data...\n",
            "[nltk_data]    | Downloading package large_grammars to\n",
            "[nltk_data]    |     /root/nltk_data...\n",
            "[nltk_data]    |   Unzipping grammars/large_grammars.zip.\n",
            "[nltk_data]    | Downloading package lin_thesaurus to\n",
            "[nltk_data]    |     /root/nltk_data...\n",
            "[nltk_data]    |   Unzipping corpora/lin_thesaurus.zip.\n",
            "[nltk_data]    | Downloading package mac_morpho to /root/nltk_data...\n",
            "[nltk_data]    |   Unzipping corpora/mac_morpho.zip.\n",
            "[nltk_data]    | Downloading package machado to /root/nltk_data...\n",
            "[nltk_data]    | Downloading package masc_tagged to /root/nltk_data...\n",
            "[nltk_data]    | Downloading package maxent_ne_chunker to\n",
            "[nltk_data]    |     /root/nltk_data...\n",
            "[nltk_data]    |   Unzipping chunkers/maxent_ne_chunker.zip.\n",
            "[nltk_data]    | Downloading package maxent_treebank_pos_tagger to\n",
            "[nltk_data]    |     /root/nltk_data...\n",
            "[nltk_data]    |   Unzipping taggers/maxent_treebank_pos_tagger.zip.\n",
            "[nltk_data]    | Downloading package moses_sample to\n",
            "[nltk_data]    |     /root/nltk_data...\n",
            "[nltk_data]    |   Unzipping models/moses_sample.zip.\n",
            "[nltk_data]    | Downloading package movie_reviews to\n",
            "[nltk_data]    |     /root/nltk_data...\n",
            "[nltk_data]    |   Unzipping corpora/movie_reviews.zip.\n",
            "[nltk_data]    | Downloading package mte_teip5 to /root/nltk_data...\n",
            "[nltk_data]    |   Unzipping corpora/mte_teip5.zip.\n",
            "[nltk_data]    | Downloading package mwa_ppdb to /root/nltk_data...\n",
            "[nltk_data]    |   Unzipping misc/mwa_ppdb.zip.\n",
            "[nltk_data]    | Downloading package names to /root/nltk_data...\n",
            "[nltk_data]    |   Unzipping corpora/names.zip.\n",
            "[nltk_data]    | Downloading package nombank.1.0 to /root/nltk_data...\n",
            "[nltk_data]    | Downloading package nonbreaking_prefixes to\n",
            "[nltk_data]    |     /root/nltk_data...\n",
            "[nltk_data]    |   Unzipping corpora/nonbreaking_prefixes.zip.\n",
            "[nltk_data]    | Downloading package nps_chat to /root/nltk_data...\n",
            "[nltk_data]    |   Unzipping corpora/nps_chat.zip.\n",
            "[nltk_data]    | Downloading package omw to /root/nltk_data...\n",
            "[nltk_data]    |   Unzipping corpora/omw.zip.\n",
            "[nltk_data]    | Downloading package omw-1.4 to /root/nltk_data...\n",
            "[nltk_data]    |   Unzipping corpora/omw-1.4.zip.\n",
            "[nltk_data]    | Downloading package opinion_lexicon to\n",
            "[nltk_data]    |     /root/nltk_data...\n",
            "[nltk_data]    |   Unzipping corpora/opinion_lexicon.zip.\n",
            "[nltk_data]    | Downloading package panlex_swadesh to\n",
            "[nltk_data]    |     /root/nltk_data...\n",
            "[nltk_data]    | Downloading package paradigms to /root/nltk_data...\n",
            "[nltk_data]    |   Unzipping corpora/paradigms.zip.\n",
            "[nltk_data]    | Downloading package pe08 to /root/nltk_data...\n",
            "[nltk_data]    |   Unzipping corpora/pe08.zip.\n",
            "[nltk_data]    | Downloading package perluniprops to\n",
            "[nltk_data]    |     /root/nltk_data...\n",
            "[nltk_data]    |   Unzipping misc/perluniprops.zip.\n",
            "[nltk_data]    | Downloading package pil to /root/nltk_data...\n",
            "[nltk_data]    |   Unzipping corpora/pil.zip.\n",
            "[nltk_data]    | Downloading package pl196x to /root/nltk_data...\n",
            "[nltk_data]    |   Unzipping corpora/pl196x.zip.\n",
            "[nltk_data]    | Downloading package porter_test to /root/nltk_data...\n",
            "[nltk_data]    |   Unzipping stemmers/porter_test.zip.\n",
            "[nltk_data]    | Downloading package ppattach to /root/nltk_data...\n",
            "[nltk_data]    |   Unzipping corpora/ppattach.zip.\n",
            "[nltk_data]    | Downloading package problem_reports to\n",
            "[nltk_data]    |     /root/nltk_data...\n",
            "[nltk_data]    |   Unzipping corpora/problem_reports.zip.\n",
            "[nltk_data]    | Downloading package product_reviews_1 to\n",
            "[nltk_data]    |     /root/nltk_data...\n",
            "[nltk_data]    |   Unzipping corpora/product_reviews_1.zip.\n",
            "[nltk_data]    | Downloading package product_reviews_2 to\n",
            "[nltk_data]    |     /root/nltk_data...\n",
            "[nltk_data]    |   Unzipping corpora/product_reviews_2.zip.\n",
            "[nltk_data]    | Downloading package propbank to /root/nltk_data...\n",
            "[nltk_data]    | Downloading package pros_cons to /root/nltk_data...\n",
            "[nltk_data]    |   Unzipping corpora/pros_cons.zip.\n",
            "[nltk_data]    | Downloading package ptb to /root/nltk_data...\n",
            "[nltk_data]    |   Unzipping corpora/ptb.zip.\n",
            "[nltk_data]    | Downloading package punkt to /root/nltk_data...\n",
            "[nltk_data]    |   Unzipping tokenizers/punkt.zip.\n",
            "[nltk_data]    | Downloading package qc to /root/nltk_data...\n",
            "[nltk_data]    |   Unzipping corpora/qc.zip.\n",
            "[nltk_data]    | Downloading package reuters to /root/nltk_data...\n",
            "[nltk_data]    | Downloading package rslp to /root/nltk_data...\n",
            "[nltk_data]    |   Unzipping stemmers/rslp.zip.\n",
            "[nltk_data]    | Downloading package rte to /root/nltk_data...\n",
            "[nltk_data]    |   Unzipping corpora/rte.zip.\n",
            "[nltk_data]    | Downloading package sample_grammars to\n",
            "[nltk_data]    |     /root/nltk_data...\n",
            "[nltk_data]    |   Unzipping grammars/sample_grammars.zip.\n",
            "[nltk_data]    | Downloading package semcor to /root/nltk_data...\n",
            "[nltk_data]    | Downloading package senseval to /root/nltk_data...\n",
            "[nltk_data]    |   Unzipping corpora/senseval.zip.\n",
            "[nltk_data]    | Downloading package sentence_polarity to\n",
            "[nltk_data]    |     /root/nltk_data...\n",
            "[nltk_data]    |   Unzipping corpora/sentence_polarity.zip.\n",
            "[nltk_data]    | Downloading package sentiwordnet to\n",
            "[nltk_data]    |     /root/nltk_data...\n",
            "[nltk_data]    |   Unzipping corpora/sentiwordnet.zip.\n",
            "[nltk_data]    | Downloading package shakespeare to /root/nltk_data...\n",
            "[nltk_data]    |   Unzipping corpora/shakespeare.zip.\n",
            "[nltk_data]    | Downloading package sinica_treebank to\n",
            "[nltk_data]    |     /root/nltk_data...\n",
            "[nltk_data]    |   Unzipping corpora/sinica_treebank.zip.\n",
            "[nltk_data]    | Downloading package smultron to /root/nltk_data...\n",
            "[nltk_data]    |   Unzipping corpora/smultron.zip.\n",
            "[nltk_data]    | Downloading package snowball_data to\n",
            "[nltk_data]    |     /root/nltk_data...\n",
            "[nltk_data]    | Downloading package spanish_grammars to\n",
            "[nltk_data]    |     /root/nltk_data...\n",
            "[nltk_data]    |   Unzipping grammars/spanish_grammars.zip.\n",
            "[nltk_data]    | Downloading package state_union to /root/nltk_data...\n",
            "[nltk_data]    |   Unzipping corpora/state_union.zip.\n",
            "[nltk_data]    | Downloading package stopwords to /root/nltk_data...\n",
            "[nltk_data]    |   Unzipping corpora/stopwords.zip.\n",
            "[nltk_data]    | Downloading package subjectivity to\n",
            "[nltk_data]    |     /root/nltk_data...\n",
            "[nltk_data]    |   Unzipping corpora/subjectivity.zip.\n",
            "[nltk_data]    | Downloading package swadesh to /root/nltk_data...\n",
            "[nltk_data]    |   Unzipping corpora/swadesh.zip.\n",
            "[nltk_data]    | Downloading package switchboard to /root/nltk_data...\n",
            "[nltk_data]    |   Unzipping corpora/switchboard.zip.\n",
            "[nltk_data]    | Downloading package tagsets to /root/nltk_data...\n",
            "[nltk_data]    |   Unzipping help/tagsets.zip.\n",
            "[nltk_data]    | Downloading package timit to /root/nltk_data...\n",
            "[nltk_data]    |   Unzipping corpora/timit.zip.\n",
            "[nltk_data]    | Downloading package toolbox to /root/nltk_data...\n",
            "[nltk_data]    |   Unzipping corpora/toolbox.zip.\n",
            "[nltk_data]    | Downloading package treebank to /root/nltk_data...\n",
            "[nltk_data]    |   Unzipping corpora/treebank.zip.\n",
            "[nltk_data]    | Downloading package twitter_samples to\n",
            "[nltk_data]    |     /root/nltk_data...\n",
            "[nltk_data]    |   Unzipping corpora/twitter_samples.zip.\n",
            "[nltk_data]    | Downloading package udhr to /root/nltk_data...\n",
            "[nltk_data]    |   Unzipping corpora/udhr.zip.\n",
            "[nltk_data]    | Downloading package udhr2 to /root/nltk_data...\n",
            "[nltk_data]    |   Unzipping corpora/udhr2.zip.\n",
            "[nltk_data]    | Downloading package unicode_samples to\n",
            "[nltk_data]    |     /root/nltk_data...\n",
            "[nltk_data]    |   Unzipping corpora/unicode_samples.zip.\n",
            "[nltk_data]    | Downloading package universal_tagset to\n",
            "[nltk_data]    |     /root/nltk_data...\n",
            "[nltk_data]    |   Unzipping taggers/universal_tagset.zip.\n",
            "[nltk_data]    | Downloading package universal_treebanks_v20 to\n",
            "[nltk_data]    |     /root/nltk_data...\n",
            "[nltk_data]    | Downloading package vader_lexicon to\n",
            "[nltk_data]    |     /root/nltk_data...\n",
            "[nltk_data]    | Downloading package verbnet to /root/nltk_data...\n",
            "[nltk_data]    |   Unzipping corpora/verbnet.zip.\n",
            "[nltk_data]    | Downloading package verbnet3 to /root/nltk_data...\n",
            "[nltk_data]    |   Unzipping corpora/verbnet3.zip.\n",
            "[nltk_data]    | Downloading package webtext to /root/nltk_data...\n",
            "[nltk_data]    |   Unzipping corpora/webtext.zip.\n",
            "[nltk_data]    | Downloading package wmt15_eval to /root/nltk_data...\n",
            "[nltk_data]    |   Unzipping models/wmt15_eval.zip.\n",
            "[nltk_data]    | Downloading package word2vec_sample to\n",
            "[nltk_data]    |     /root/nltk_data...\n",
            "[nltk_data]    |   Unzipping models/word2vec_sample.zip.\n",
            "[nltk_data]    | Downloading package wordnet to /root/nltk_data...\n",
            "[nltk_data]    |   Unzipping corpora/wordnet.zip.\n",
            "[nltk_data]    | Downloading package wordnet2021 to /root/nltk_data...\n",
            "[nltk_data]    |   Unzipping corpora/wordnet2021.zip.\n",
            "[nltk_data]    | Downloading package wordnet31 to /root/nltk_data...\n",
            "[nltk_data]    |   Unzipping corpora/wordnet31.zip.\n",
            "[nltk_data]    | Downloading package wordnet_ic to /root/nltk_data...\n",
            "[nltk_data]    |   Unzipping corpora/wordnet_ic.zip.\n",
            "[nltk_data]    | Downloading package words to /root/nltk_data...\n",
            "[nltk_data]    |   Unzipping corpora/words.zip.\n",
            "[nltk_data]    | Downloading package ycoe to /root/nltk_data...\n",
            "[nltk_data]    |   Unzipping corpora/ycoe.zip.\n",
            "[nltk_data]    | \n",
            "[nltk_data]  Done downloading collection all\n"
          ]
        },
        {
          "output_type": "execute_result",
          "data": {
            "text/plain": [
              "True"
            ]
          },
          "metadata": {},
          "execution_count": 1
        }
      ]
    },
    {
      "cell_type": "code",
      "metadata": {
        "id": "bHQ0pqqB5Hi-"
      },
      "source": [
        "import re\n",
        "from nltk.corpus import stopwords\n",
        "from nltk.stem import PorterStemmer\n",
        "from nltk.tokenize import word_tokenize\n",
        "import pandas as pd\n",
        "import numpy as np"
      ],
      "execution_count": null,
      "outputs": []
    },
    {
      "cell_type": "code",
      "metadata": {
        "colab": {
          "base_uri": "https://localhost:8080/",
          "height": 1000
        },
        "id": "dVTH0WGn6Jzl",
        "outputId": "44330eee-3505-4859-e02e-bc99d7700d58"
      },
      "source": [
        "data= pd.read_csv('/content/amazon_reviews.csv')\n",
        "data.head(10)"
      ],
      "execution_count": null,
      "outputs": [
        {
          "output_type": "stream",
          "name": "stderr",
          "text": [
            "/usr/local/lib/python3.7/dist-packages/IPython/core/interactiveshell.py:2882: DtypeWarning: Columns (1,10) have mixed types.Specify dtype option on import or set low_memory=False.\n",
            "  exec(code_obj, self.user_global_ns, self.user_ns)\n"
          ]
        },
        {
          "output_type": "execute_result",
          "data": {
            "text/plain": [
              "                     id                                               name  \\\n",
              "0  AVqkIhwDv8e3D1O-lebb  All-New Fire HD 8 Tablet, 8 HD Display, Wi-Fi,...   \n",
              "1  AVqkIhwDv8e3D1O-lebb  All-New Fire HD 8 Tablet, 8 HD Display, Wi-Fi,...   \n",
              "2  AVqkIhwDv8e3D1O-lebb  All-New Fire HD 8 Tablet, 8 HD Display, Wi-Fi,...   \n",
              "3  AVqkIhwDv8e3D1O-lebb  All-New Fire HD 8 Tablet, 8 HD Display, Wi-Fi,...   \n",
              "4  AVqkIhwDv8e3D1O-lebb  All-New Fire HD 8 Tablet, 8 HD Display, Wi-Fi,...   \n",
              "5  AVqkIhwDv8e3D1O-lebb  All-New Fire HD 8 Tablet, 8 HD Display, Wi-Fi,...   \n",
              "6  AVqkIhwDv8e3D1O-lebb  All-New Fire HD 8 Tablet, 8 HD Display, Wi-Fi,...   \n",
              "7  AVqkIhwDv8e3D1O-lebb  All-New Fire HD 8 Tablet, 8 HD Display, Wi-Fi,...   \n",
              "8  AVqkIhwDv8e3D1O-lebb  All-New Fire HD 8 Tablet, 8 HD Display, Wi-Fi,...   \n",
              "9  AVqkIhwDv8e3D1O-lebb  All-New Fire HD 8 Tablet, 8 HD Display, Wi-Fi,...   \n",
              "\n",
              "        asins   brand                                         categories  \\\n",
              "0  B01AHB9CN2  Amazon  Electronics,iPad & Tablets,All Tablets,Fire Ta...   \n",
              "1  B01AHB9CN2  Amazon  Electronics,iPad & Tablets,All Tablets,Fire Ta...   \n",
              "2  B01AHB9CN2  Amazon  Electronics,iPad & Tablets,All Tablets,Fire Ta...   \n",
              "3  B01AHB9CN2  Amazon  Electronics,iPad & Tablets,All Tablets,Fire Ta...   \n",
              "4  B01AHB9CN2  Amazon  Electronics,iPad & Tablets,All Tablets,Fire Ta...   \n",
              "5  B01AHB9CN2  Amazon  Electronics,iPad & Tablets,All Tablets,Fire Ta...   \n",
              "6  B01AHB9CN2  Amazon  Electronics,iPad & Tablets,All Tablets,Fire Ta...   \n",
              "7  B01AHB9CN2  Amazon  Electronics,iPad & Tablets,All Tablets,Fire Ta...   \n",
              "8  B01AHB9CN2  Amazon  Electronics,iPad & Tablets,All Tablets,Fire Ta...   \n",
              "9  B01AHB9CN2  Amazon  Electronics,iPad & Tablets,All Tablets,Fire Ta...   \n",
              "\n",
              "                                                keys manufacturer  \\\n",
              "0  841667104676,amazon/53004484,amazon/b01ahb9cn2...       Amazon   \n",
              "1  841667104676,amazon/53004484,amazon/b01ahb9cn2...       Amazon   \n",
              "2  841667104676,amazon/53004484,amazon/b01ahb9cn2...       Amazon   \n",
              "3  841667104676,amazon/53004484,amazon/b01ahb9cn2...       Amazon   \n",
              "4  841667104676,amazon/53004484,amazon/b01ahb9cn2...       Amazon   \n",
              "5  841667104676,amazon/53004484,amazon/b01ahb9cn2...       Amazon   \n",
              "6  841667104676,amazon/53004484,amazon/b01ahb9cn2...       Amazon   \n",
              "7  841667104676,amazon/53004484,amazon/b01ahb9cn2...       Amazon   \n",
              "8  841667104676,amazon/53004484,amazon/b01ahb9cn2...       Amazon   \n",
              "9  841667104676,amazon/53004484,amazon/b01ahb9cn2...       Amazon   \n",
              "\n",
              "               reviews.date     reviews.dateAdded  \\\n",
              "0  2017-01-13T00:00:00.000Z  2017-07-03T23:33:15Z   \n",
              "1  2017-01-13T00:00:00.000Z  2017-07-03T23:33:15Z   \n",
              "2  2017-01-13T00:00:00.000Z  2017-07-03T23:33:15Z   \n",
              "3  2017-01-13T00:00:00.000Z  2017-07-03T23:33:15Z   \n",
              "4  2017-01-12T00:00:00.000Z  2017-07-03T23:33:15Z   \n",
              "5  2017-01-12T00:00:00.000Z  2017-07-03T23:33:15Z   \n",
              "6  2017-01-12T00:00:00.000Z  2017-07-03T23:33:15Z   \n",
              "7  2017-01-12T00:00:00.000Z  2017-07-03T23:33:15Z   \n",
              "8  2017-01-23T00:00:00.000Z  2017-07-03T23:28:24Z   \n",
              "9  2017-01-23T00:00:00.000Z  2017-07-03T23:28:24Z   \n",
              "\n",
              "                                    reviews.dateSeen  ... reviews.doRecommend  \\\n",
              "0  2017-06-07T09:04:00.000Z,2017-04-30T00:45:00.000Z  ...                True   \n",
              "1  2017-06-07T09:04:00.000Z,2017-04-30T00:45:00.000Z  ...                True   \n",
              "2  2017-06-07T09:04:00.000Z,2017-04-30T00:45:00.000Z  ...                True   \n",
              "3  2017-06-07T09:04:00.000Z,2017-04-30T00:45:00.000Z  ...                True   \n",
              "4  2017-06-07T09:04:00.000Z,2017-04-30T00:45:00.000Z  ...                True   \n",
              "5  2017-06-07T09:04:00.000Z,2017-04-30T00:45:00.000Z  ...                True   \n",
              "6  2017-06-07T09:04:00.000Z,2017-04-30T00:45:00.000Z  ...                True   \n",
              "7  2017-06-07T09:04:00.000Z,2017-04-30T00:45:00.000Z  ...                True   \n",
              "8  2017-06-07T09:04:00.000Z,2017-04-30T00:44:00.000Z  ...                True   \n",
              "9  2017-06-07T09:04:00.000Z,2017-04-30T00:44:00.000Z  ...                True   \n",
              "\n",
              "  reviews.id  reviews.numHelpful  reviews.rating  \\\n",
              "0        NaN                 0.0             5.0   \n",
              "1        NaN                 0.0             5.0   \n",
              "2        NaN                 0.0             5.0   \n",
              "3        NaN                 0.0             4.0   \n",
              "4        NaN                 0.0             5.0   \n",
              "5        NaN                 0.0             5.0   \n",
              "6        NaN                 0.0             4.0   \n",
              "7        NaN                 0.0             5.0   \n",
              "8        NaN                 0.0             5.0   \n",
              "9        NaN                 0.0             5.0   \n",
              "\n",
              "                                  reviews.sourceURLs  \\\n",
              "0  http://reviews.bestbuy.com/3545/5620406/review...   \n",
              "1  http://reviews.bestbuy.com/3545/5620406/review...   \n",
              "2  http://reviews.bestbuy.com/3545/5620406/review...   \n",
              "3  http://reviews.bestbuy.com/3545/5620406/review...   \n",
              "4  http://reviews.bestbuy.com/3545/5620406/review...   \n",
              "5  http://reviews.bestbuy.com/3545/5620406/review...   \n",
              "6  http://reviews.bestbuy.com/3545/5620406/review...   \n",
              "7  http://reviews.bestbuy.com/3545/5620406/review...   \n",
              "8  http://reviews.bestbuy.com/3545/5620406/review...   \n",
              "9  http://reviews.bestbuy.com/3545/5620406/review...   \n",
              "\n",
              "                                        reviews.text  \\\n",
              "0  This product so far has not disappointed. My c...   \n",
              "1  great for beginner or experienced person. Boug...   \n",
              "2  Inexpensive tablet for him to use and learn on...   \n",
              "3  I've had my Fire HD 8 two weeks now and I love...   \n",
              "4  I bought this for my grand daughter when she c...   \n",
              "5  This amazon fire 8 inch tablet is the perfect ...   \n",
              "6  Great for e-reading on the go, nice and light ...   \n",
              "7  I gave this as a Christmas gift to my inlaws, ...   \n",
              "8  Great as a device to read books. I like that i...   \n",
              "9  I love ordering books and reading them with th...   \n",
              "\n",
              "                             reviews.title reviews.userCity  \\\n",
              "0                                   Kindle              NaN   \n",
              "1                                very fast              NaN   \n",
              "2  Beginner tablet for our 9 year old son.              NaN   \n",
              "3                                  Good!!!              NaN   \n",
              "4                Fantastic Tablet for kids              NaN   \n",
              "5                    Just what we expected              NaN   \n",
              "6                    great e-reader tablet              NaN   \n",
              "7                          Great for gifts              NaN   \n",
              "8                        Great for reading              NaN   \n",
              "9             Great and lightweight reader              NaN   \n",
              "\n",
              "   reviews.userProvince  reviews.username  \n",
              "0                   NaN           Adapter  \n",
              "1                   NaN            truman  \n",
              "2                   NaN             DaveZ  \n",
              "3                   NaN            Shacks  \n",
              "4                   NaN         explore42  \n",
              "5                   NaN             tklit  \n",
              "6                   NaN              Droi  \n",
              "7                   NaN              Kacy  \n",
              "8                   NaN            Weebee  \n",
              "9                   NaN           RoboBob  \n",
              "\n",
              "[10 rows x 21 columns]"
            ],
            "text/html": [
              "\n",
              "  <div id=\"df-9b597191-417e-4c59-b767-2455ec38f5ef\">\n",
              "    <div class=\"colab-df-container\">\n",
              "      <div>\n",
              "<style scoped>\n",
              "    .dataframe tbody tr th:only-of-type {\n",
              "        vertical-align: middle;\n",
              "    }\n",
              "\n",
              "    .dataframe tbody tr th {\n",
              "        vertical-align: top;\n",
              "    }\n",
              "\n",
              "    .dataframe thead th {\n",
              "        text-align: right;\n",
              "    }\n",
              "</style>\n",
              "<table border=\"1\" class=\"dataframe\">\n",
              "  <thead>\n",
              "    <tr style=\"text-align: right;\">\n",
              "      <th></th>\n",
              "      <th>id</th>\n",
              "      <th>name</th>\n",
              "      <th>asins</th>\n",
              "      <th>brand</th>\n",
              "      <th>categories</th>\n",
              "      <th>keys</th>\n",
              "      <th>manufacturer</th>\n",
              "      <th>reviews.date</th>\n",
              "      <th>reviews.dateAdded</th>\n",
              "      <th>reviews.dateSeen</th>\n",
              "      <th>...</th>\n",
              "      <th>reviews.doRecommend</th>\n",
              "      <th>reviews.id</th>\n",
              "      <th>reviews.numHelpful</th>\n",
              "      <th>reviews.rating</th>\n",
              "      <th>reviews.sourceURLs</th>\n",
              "      <th>reviews.text</th>\n",
              "      <th>reviews.title</th>\n",
              "      <th>reviews.userCity</th>\n",
              "      <th>reviews.userProvince</th>\n",
              "      <th>reviews.username</th>\n",
              "    </tr>\n",
              "  </thead>\n",
              "  <tbody>\n",
              "    <tr>\n",
              "      <th>0</th>\n",
              "      <td>AVqkIhwDv8e3D1O-lebb</td>\n",
              "      <td>All-New Fire HD 8 Tablet, 8 HD Display, Wi-Fi,...</td>\n",
              "      <td>B01AHB9CN2</td>\n",
              "      <td>Amazon</td>\n",
              "      <td>Electronics,iPad &amp; Tablets,All Tablets,Fire Ta...</td>\n",
              "      <td>841667104676,amazon/53004484,amazon/b01ahb9cn2...</td>\n",
              "      <td>Amazon</td>\n",
              "      <td>2017-01-13T00:00:00.000Z</td>\n",
              "      <td>2017-07-03T23:33:15Z</td>\n",
              "      <td>2017-06-07T09:04:00.000Z,2017-04-30T00:45:00.000Z</td>\n",
              "      <td>...</td>\n",
              "      <td>True</td>\n",
              "      <td>NaN</td>\n",
              "      <td>0.0</td>\n",
              "      <td>5.0</td>\n",
              "      <td>http://reviews.bestbuy.com/3545/5620406/review...</td>\n",
              "      <td>This product so far has not disappointed. My c...</td>\n",
              "      <td>Kindle</td>\n",
              "      <td>NaN</td>\n",
              "      <td>NaN</td>\n",
              "      <td>Adapter</td>\n",
              "    </tr>\n",
              "    <tr>\n",
              "      <th>1</th>\n",
              "      <td>AVqkIhwDv8e3D1O-lebb</td>\n",
              "      <td>All-New Fire HD 8 Tablet, 8 HD Display, Wi-Fi,...</td>\n",
              "      <td>B01AHB9CN2</td>\n",
              "      <td>Amazon</td>\n",
              "      <td>Electronics,iPad &amp; Tablets,All Tablets,Fire Ta...</td>\n",
              "      <td>841667104676,amazon/53004484,amazon/b01ahb9cn2...</td>\n",
              "      <td>Amazon</td>\n",
              "      <td>2017-01-13T00:00:00.000Z</td>\n",
              "      <td>2017-07-03T23:33:15Z</td>\n",
              "      <td>2017-06-07T09:04:00.000Z,2017-04-30T00:45:00.000Z</td>\n",
              "      <td>...</td>\n",
              "      <td>True</td>\n",
              "      <td>NaN</td>\n",
              "      <td>0.0</td>\n",
              "      <td>5.0</td>\n",
              "      <td>http://reviews.bestbuy.com/3545/5620406/review...</td>\n",
              "      <td>great for beginner or experienced person. Boug...</td>\n",
              "      <td>very fast</td>\n",
              "      <td>NaN</td>\n",
              "      <td>NaN</td>\n",
              "      <td>truman</td>\n",
              "    </tr>\n",
              "    <tr>\n",
              "      <th>2</th>\n",
              "      <td>AVqkIhwDv8e3D1O-lebb</td>\n",
              "      <td>All-New Fire HD 8 Tablet, 8 HD Display, Wi-Fi,...</td>\n",
              "      <td>B01AHB9CN2</td>\n",
              "      <td>Amazon</td>\n",
              "      <td>Electronics,iPad &amp; Tablets,All Tablets,Fire Ta...</td>\n",
              "      <td>841667104676,amazon/53004484,amazon/b01ahb9cn2...</td>\n",
              "      <td>Amazon</td>\n",
              "      <td>2017-01-13T00:00:00.000Z</td>\n",
              "      <td>2017-07-03T23:33:15Z</td>\n",
              "      <td>2017-06-07T09:04:00.000Z,2017-04-30T00:45:00.000Z</td>\n",
              "      <td>...</td>\n",
              "      <td>True</td>\n",
              "      <td>NaN</td>\n",
              "      <td>0.0</td>\n",
              "      <td>5.0</td>\n",
              "      <td>http://reviews.bestbuy.com/3545/5620406/review...</td>\n",
              "      <td>Inexpensive tablet for him to use and learn on...</td>\n",
              "      <td>Beginner tablet for our 9 year old son.</td>\n",
              "      <td>NaN</td>\n",
              "      <td>NaN</td>\n",
              "      <td>DaveZ</td>\n",
              "    </tr>\n",
              "    <tr>\n",
              "      <th>3</th>\n",
              "      <td>AVqkIhwDv8e3D1O-lebb</td>\n",
              "      <td>All-New Fire HD 8 Tablet, 8 HD Display, Wi-Fi,...</td>\n",
              "      <td>B01AHB9CN2</td>\n",
              "      <td>Amazon</td>\n",
              "      <td>Electronics,iPad &amp; Tablets,All Tablets,Fire Ta...</td>\n",
              "      <td>841667104676,amazon/53004484,amazon/b01ahb9cn2...</td>\n",
              "      <td>Amazon</td>\n",
              "      <td>2017-01-13T00:00:00.000Z</td>\n",
              "      <td>2017-07-03T23:33:15Z</td>\n",
              "      <td>2017-06-07T09:04:00.000Z,2017-04-30T00:45:00.000Z</td>\n",
              "      <td>...</td>\n",
              "      <td>True</td>\n",
              "      <td>NaN</td>\n",
              "      <td>0.0</td>\n",
              "      <td>4.0</td>\n",
              "      <td>http://reviews.bestbuy.com/3545/5620406/review...</td>\n",
              "      <td>I've had my Fire HD 8 two weeks now and I love...</td>\n",
              "      <td>Good!!!</td>\n",
              "      <td>NaN</td>\n",
              "      <td>NaN</td>\n",
              "      <td>Shacks</td>\n",
              "    </tr>\n",
              "    <tr>\n",
              "      <th>4</th>\n",
              "      <td>AVqkIhwDv8e3D1O-lebb</td>\n",
              "      <td>All-New Fire HD 8 Tablet, 8 HD Display, Wi-Fi,...</td>\n",
              "      <td>B01AHB9CN2</td>\n",
              "      <td>Amazon</td>\n",
              "      <td>Electronics,iPad &amp; Tablets,All Tablets,Fire Ta...</td>\n",
              "      <td>841667104676,amazon/53004484,amazon/b01ahb9cn2...</td>\n",
              "      <td>Amazon</td>\n",
              "      <td>2017-01-12T00:00:00.000Z</td>\n",
              "      <td>2017-07-03T23:33:15Z</td>\n",
              "      <td>2017-06-07T09:04:00.000Z,2017-04-30T00:45:00.000Z</td>\n",
              "      <td>...</td>\n",
              "      <td>True</td>\n",
              "      <td>NaN</td>\n",
              "      <td>0.0</td>\n",
              "      <td>5.0</td>\n",
              "      <td>http://reviews.bestbuy.com/3545/5620406/review...</td>\n",
              "      <td>I bought this for my grand daughter when she c...</td>\n",
              "      <td>Fantastic Tablet for kids</td>\n",
              "      <td>NaN</td>\n",
              "      <td>NaN</td>\n",
              "      <td>explore42</td>\n",
              "    </tr>\n",
              "    <tr>\n",
              "      <th>5</th>\n",
              "      <td>AVqkIhwDv8e3D1O-lebb</td>\n",
              "      <td>All-New Fire HD 8 Tablet, 8 HD Display, Wi-Fi,...</td>\n",
              "      <td>B01AHB9CN2</td>\n",
              "      <td>Amazon</td>\n",
              "      <td>Electronics,iPad &amp; Tablets,All Tablets,Fire Ta...</td>\n",
              "      <td>841667104676,amazon/53004484,amazon/b01ahb9cn2...</td>\n",
              "      <td>Amazon</td>\n",
              "      <td>2017-01-12T00:00:00.000Z</td>\n",
              "      <td>2017-07-03T23:33:15Z</td>\n",
              "      <td>2017-06-07T09:04:00.000Z,2017-04-30T00:45:00.000Z</td>\n",
              "      <td>...</td>\n",
              "      <td>True</td>\n",
              "      <td>NaN</td>\n",
              "      <td>0.0</td>\n",
              "      <td>5.0</td>\n",
              "      <td>http://reviews.bestbuy.com/3545/5620406/review...</td>\n",
              "      <td>This amazon fire 8 inch tablet is the perfect ...</td>\n",
              "      <td>Just what we expected</td>\n",
              "      <td>NaN</td>\n",
              "      <td>NaN</td>\n",
              "      <td>tklit</td>\n",
              "    </tr>\n",
              "    <tr>\n",
              "      <th>6</th>\n",
              "      <td>AVqkIhwDv8e3D1O-lebb</td>\n",
              "      <td>All-New Fire HD 8 Tablet, 8 HD Display, Wi-Fi,...</td>\n",
              "      <td>B01AHB9CN2</td>\n",
              "      <td>Amazon</td>\n",
              "      <td>Electronics,iPad &amp; Tablets,All Tablets,Fire Ta...</td>\n",
              "      <td>841667104676,amazon/53004484,amazon/b01ahb9cn2...</td>\n",
              "      <td>Amazon</td>\n",
              "      <td>2017-01-12T00:00:00.000Z</td>\n",
              "      <td>2017-07-03T23:33:15Z</td>\n",
              "      <td>2017-06-07T09:04:00.000Z,2017-04-30T00:45:00.000Z</td>\n",
              "      <td>...</td>\n",
              "      <td>True</td>\n",
              "      <td>NaN</td>\n",
              "      <td>0.0</td>\n",
              "      <td>4.0</td>\n",
              "      <td>http://reviews.bestbuy.com/3545/5620406/review...</td>\n",
              "      <td>Great for e-reading on the go, nice and light ...</td>\n",
              "      <td>great e-reader tablet</td>\n",
              "      <td>NaN</td>\n",
              "      <td>NaN</td>\n",
              "      <td>Droi</td>\n",
              "    </tr>\n",
              "    <tr>\n",
              "      <th>7</th>\n",
              "      <td>AVqkIhwDv8e3D1O-lebb</td>\n",
              "      <td>All-New Fire HD 8 Tablet, 8 HD Display, Wi-Fi,...</td>\n",
              "      <td>B01AHB9CN2</td>\n",
              "      <td>Amazon</td>\n",
              "      <td>Electronics,iPad &amp; Tablets,All Tablets,Fire Ta...</td>\n",
              "      <td>841667104676,amazon/53004484,amazon/b01ahb9cn2...</td>\n",
              "      <td>Amazon</td>\n",
              "      <td>2017-01-12T00:00:00.000Z</td>\n",
              "      <td>2017-07-03T23:33:15Z</td>\n",
              "      <td>2017-06-07T09:04:00.000Z,2017-04-30T00:45:00.000Z</td>\n",
              "      <td>...</td>\n",
              "      <td>True</td>\n",
              "      <td>NaN</td>\n",
              "      <td>0.0</td>\n",
              "      <td>5.0</td>\n",
              "      <td>http://reviews.bestbuy.com/3545/5620406/review...</td>\n",
              "      <td>I gave this as a Christmas gift to my inlaws, ...</td>\n",
              "      <td>Great for gifts</td>\n",
              "      <td>NaN</td>\n",
              "      <td>NaN</td>\n",
              "      <td>Kacy</td>\n",
              "    </tr>\n",
              "    <tr>\n",
              "      <th>8</th>\n",
              "      <td>AVqkIhwDv8e3D1O-lebb</td>\n",
              "      <td>All-New Fire HD 8 Tablet, 8 HD Display, Wi-Fi,...</td>\n",
              "      <td>B01AHB9CN2</td>\n",
              "      <td>Amazon</td>\n",
              "      <td>Electronics,iPad &amp; Tablets,All Tablets,Fire Ta...</td>\n",
              "      <td>841667104676,amazon/53004484,amazon/b01ahb9cn2...</td>\n",
              "      <td>Amazon</td>\n",
              "      <td>2017-01-23T00:00:00.000Z</td>\n",
              "      <td>2017-07-03T23:28:24Z</td>\n",
              "      <td>2017-06-07T09:04:00.000Z,2017-04-30T00:44:00.000Z</td>\n",
              "      <td>...</td>\n",
              "      <td>True</td>\n",
              "      <td>NaN</td>\n",
              "      <td>0.0</td>\n",
              "      <td>5.0</td>\n",
              "      <td>http://reviews.bestbuy.com/3545/5620406/review...</td>\n",
              "      <td>Great as a device to read books. I like that i...</td>\n",
              "      <td>Great for reading</td>\n",
              "      <td>NaN</td>\n",
              "      <td>NaN</td>\n",
              "      <td>Weebee</td>\n",
              "    </tr>\n",
              "    <tr>\n",
              "      <th>9</th>\n",
              "      <td>AVqkIhwDv8e3D1O-lebb</td>\n",
              "      <td>All-New Fire HD 8 Tablet, 8 HD Display, Wi-Fi,...</td>\n",
              "      <td>B01AHB9CN2</td>\n",
              "      <td>Amazon</td>\n",
              "      <td>Electronics,iPad &amp; Tablets,All Tablets,Fire Ta...</td>\n",
              "      <td>841667104676,amazon/53004484,amazon/b01ahb9cn2...</td>\n",
              "      <td>Amazon</td>\n",
              "      <td>2017-01-23T00:00:00.000Z</td>\n",
              "      <td>2017-07-03T23:28:24Z</td>\n",
              "      <td>2017-06-07T09:04:00.000Z,2017-04-30T00:44:00.000Z</td>\n",
              "      <td>...</td>\n",
              "      <td>True</td>\n",
              "      <td>NaN</td>\n",
              "      <td>0.0</td>\n",
              "      <td>5.0</td>\n",
              "      <td>http://reviews.bestbuy.com/3545/5620406/review...</td>\n",
              "      <td>I love ordering books and reading them with th...</td>\n",
              "      <td>Great and lightweight reader</td>\n",
              "      <td>NaN</td>\n",
              "      <td>NaN</td>\n",
              "      <td>RoboBob</td>\n",
              "    </tr>\n",
              "  </tbody>\n",
              "</table>\n",
              "<p>10 rows × 21 columns</p>\n",
              "</div>\n",
              "      <button class=\"colab-df-convert\" onclick=\"convertToInteractive('df-9b597191-417e-4c59-b767-2455ec38f5ef')\"\n",
              "              title=\"Convert this dataframe to an interactive table.\"\n",
              "              style=\"display:none;\">\n",
              "        \n",
              "  <svg xmlns=\"http://www.w3.org/2000/svg\" height=\"24px\"viewBox=\"0 0 24 24\"\n",
              "       width=\"24px\">\n",
              "    <path d=\"M0 0h24v24H0V0z\" fill=\"none\"/>\n",
              "    <path d=\"M18.56 5.44l.94 2.06.94-2.06 2.06-.94-2.06-.94-.94-2.06-.94 2.06-2.06.94zm-11 1L8.5 8.5l.94-2.06 2.06-.94-2.06-.94L8.5 2.5l-.94 2.06-2.06.94zm10 10l.94 2.06.94-2.06 2.06-.94-2.06-.94-.94-2.06-.94 2.06-2.06.94z\"/><path d=\"M17.41 7.96l-1.37-1.37c-.4-.4-.92-.59-1.43-.59-.52 0-1.04.2-1.43.59L10.3 9.45l-7.72 7.72c-.78.78-.78 2.05 0 2.83L4 21.41c.39.39.9.59 1.41.59.51 0 1.02-.2 1.41-.59l7.78-7.78 2.81-2.81c.8-.78.8-2.07 0-2.86zM5.41 20L4 18.59l7.72-7.72 1.47 1.35L5.41 20z\"/>\n",
              "  </svg>\n",
              "      </button>\n",
              "      \n",
              "  <style>\n",
              "    .colab-df-container {\n",
              "      display:flex;\n",
              "      flex-wrap:wrap;\n",
              "      gap: 12px;\n",
              "    }\n",
              "\n",
              "    .colab-df-convert {\n",
              "      background-color: #E8F0FE;\n",
              "      border: none;\n",
              "      border-radius: 50%;\n",
              "      cursor: pointer;\n",
              "      display: none;\n",
              "      fill: #1967D2;\n",
              "      height: 32px;\n",
              "      padding: 0 0 0 0;\n",
              "      width: 32px;\n",
              "    }\n",
              "\n",
              "    .colab-df-convert:hover {\n",
              "      background-color: #E2EBFA;\n",
              "      box-shadow: 0px 1px 2px rgba(60, 64, 67, 0.3), 0px 1px 3px 1px rgba(60, 64, 67, 0.15);\n",
              "      fill: #174EA6;\n",
              "    }\n",
              "\n",
              "    [theme=dark] .colab-df-convert {\n",
              "      background-color: #3B4455;\n",
              "      fill: #D2E3FC;\n",
              "    }\n",
              "\n",
              "    [theme=dark] .colab-df-convert:hover {\n",
              "      background-color: #434B5C;\n",
              "      box-shadow: 0px 1px 3px 1px rgba(0, 0, 0, 0.15);\n",
              "      filter: drop-shadow(0px 1px 2px rgba(0, 0, 0, 0.3));\n",
              "      fill: #FFFFFF;\n",
              "    }\n",
              "  </style>\n",
              "\n",
              "      <script>\n",
              "        const buttonEl =\n",
              "          document.querySelector('#df-9b597191-417e-4c59-b767-2455ec38f5ef button.colab-df-convert');\n",
              "        buttonEl.style.display =\n",
              "          google.colab.kernel.accessAllowed ? 'block' : 'none';\n",
              "\n",
              "        async function convertToInteractive(key) {\n",
              "          const element = document.querySelector('#df-9b597191-417e-4c59-b767-2455ec38f5ef');\n",
              "          const dataTable =\n",
              "            await google.colab.kernel.invokeFunction('convertToInteractive',\n",
              "                                                     [key], {});\n",
              "          if (!dataTable) return;\n",
              "\n",
              "          const docLinkHtml = 'Like what you see? Visit the ' +\n",
              "            '<a target=\"_blank\" href=https://colab.research.google.com/notebooks/data_table.ipynb>data table notebook</a>'\n",
              "            + ' to learn more about interactive tables.';\n",
              "          element.innerHTML = '';\n",
              "          dataTable['output_type'] = 'display_data';\n",
              "          await google.colab.output.renderOutput(dataTable, element);\n",
              "          const docLink = document.createElement('div');\n",
              "          docLink.innerHTML = docLinkHtml;\n",
              "          element.appendChild(docLink);\n",
              "        }\n",
              "      </script>\n",
              "    </div>\n",
              "  </div>\n",
              "  "
            ]
          },
          "metadata": {},
          "execution_count": 3
        }
      ]
    },
    {
      "cell_type": "markdown",
      "source": [
        "# The Features "
      ],
      "metadata": {
        "id": "Qfm7AIVk1Urr"
      }
    },
    {
      "cell_type": "code",
      "source": [
        "data['reviews.text']"
      ],
      "metadata": {
        "id": "K3FmXe_x1cWK",
        "outputId": "120c3a3b-21cf-45c5-b0a1-7cecc9f42ac3",
        "colab": {
          "base_uri": "https://localhost:8080/"
        }
      },
      "execution_count": null,
      "outputs": [
        {
          "output_type": "execute_result",
          "data": {
            "text/plain": [
              "0        This product so far has not disappointed. My c...\n",
              "1        great for beginner or experienced person. Boug...\n",
              "2        Inexpensive tablet for him to use and learn on...\n",
              "3        I've had my Fire HD 8 two weeks now and I love...\n",
              "4        I bought this for my grand daughter when she c...\n",
              "                               ...                        \n",
              "34655    This is not appreciably faster than any other ...\n",
              "34656    Amazon should include this charger with the Ki...\n",
              "34657    Love my Kindle Fire but I am really disappoint...\n",
              "34658    I was surprised to find it did not come with a...\n",
              "34659    to spite the fact that i have nothing but good...\n",
              "Name: reviews.text, Length: 34660, dtype: object"
            ]
          },
          "metadata": {},
          "execution_count": 4
        }
      ]
    },
    {
      "cell_type": "markdown",
      "source": [
        "# labels"
      ],
      "metadata": {
        "id": "IiZsxQBw1y7N"
      }
    },
    {
      "cell_type": "code",
      "source": [
        "data['reviews.rating']"
      ],
      "metadata": {
        "id": "oUnm24O812sg",
        "outputId": "0b3330ff-96e6-4cd3-d7eb-7925b802a1b1",
        "colab": {
          "base_uri": "https://localhost:8080/"
        }
      },
      "execution_count": null,
      "outputs": [
        {
          "output_type": "execute_result",
          "data": {
            "text/plain": [
              "0        5.0\n",
              "1        5.0\n",
              "2        5.0\n",
              "3        4.0\n",
              "4        5.0\n",
              "        ... \n",
              "34655    3.0\n",
              "34656    1.0\n",
              "34657    1.0\n",
              "34658    1.0\n",
              "34659    1.0\n",
              "Name: reviews.rating, Length: 34660, dtype: float64"
            ]
          },
          "metadata": {},
          "execution_count": 5
        }
      ]
    },
    {
      "cell_type": "markdown",
      "source": [
        "# Data describtion"
      ],
      "metadata": {
        "id": "Vsw-4Wma2HNx"
      }
    },
    {
      "cell_type": "code",
      "metadata": {
        "id": "_4dw_6Ej861O",
        "colab": {
          "base_uri": "https://localhost:8080/"
        },
        "outputId": "eb36d6aa-c39c-42bc-ea62-c90fd408d4fe"
      },
      "source": [
        "missing=data.isnull().sum()\n",
        "missing"
      ],
      "execution_count": null,
      "outputs": [
        {
          "output_type": "execute_result",
          "data": {
            "text/plain": [
              "id                          0\n",
              "name                     6760\n",
              "asins                       2\n",
              "brand                       0\n",
              "categories                  0\n",
              "keys                        0\n",
              "manufacturer                0\n",
              "reviews.date               39\n",
              "reviews.dateAdded       10621\n",
              "reviews.dateSeen            0\n",
              "reviews.didPurchase     34659\n",
              "reviews.doRecommend       594\n",
              "reviews.id              34659\n",
              "reviews.numHelpful        529\n",
              "reviews.rating             33\n",
              "reviews.sourceURLs          0\n",
              "reviews.text                1\n",
              "reviews.title               5\n",
              "reviews.userCity        34660\n",
              "reviews.userProvince    34660\n",
              "reviews.username            2\n",
              "dtype: int64"
            ]
          },
          "metadata": {},
          "execution_count": 6
        }
      ]
    },
    {
      "cell_type": "markdown",
      "source": [
        "# Filling up Missing Values"
      ],
      "metadata": {
        "id": "rDdRiE0O2Q0M"
      }
    },
    {
      "cell_type": "code",
      "metadata": {
        "id": "PsOGc4_KX0-H"
      },
      "source": [
        "data['reviews.text'].fillna('good', inplace=True)"
      ],
      "execution_count": null,
      "outputs": []
    },
    {
      "cell_type": "code",
      "metadata": {
        "id": "frYj6MrwWJRU"
      },
      "source": [
        "#data['reviews.text'].dropna()"
      ],
      "execution_count": null,
      "outputs": []
    },
    {
      "cell_type": "code",
      "metadata": {
        "id": "h4t0Hpz8Wv2p"
      },
      "source": [
        "data['reviews.rating'].fillna(4, inplace=True)"
      ],
      "execution_count": null,
      "outputs": []
    },
    {
      "cell_type": "code",
      "metadata": {
        "id": "0DOG54q9ULWN",
        "colab": {
          "base_uri": "https://localhost:8080/",
          "height": 1000
        },
        "outputId": "1027241a-5c5d-4613-e908-9f6c674433f2"
      },
      "source": [
        "data"
      ],
      "execution_count": null,
      "outputs": [
        {
          "output_type": "execute_result",
          "data": {
            "text/plain": [
              "                         id  \\\n",
              "0      AVqkIhwDv8e3D1O-lebb   \n",
              "1      AVqkIhwDv8e3D1O-lebb   \n",
              "2      AVqkIhwDv8e3D1O-lebb   \n",
              "3      AVqkIhwDv8e3D1O-lebb   \n",
              "4      AVqkIhwDv8e3D1O-lebb   \n",
              "...                     ...   \n",
              "34655  AVpfiBlyLJeJML43-4Tp   \n",
              "34656  AVpfiBlyLJeJML43-4Tp   \n",
              "34657  AVpfiBlyLJeJML43-4Tp   \n",
              "34658  AVpfiBlyLJeJML43-4Tp   \n",
              "34659  AVpfiBlyLJeJML43-4Tp   \n",
              "\n",
              "                                                    name       asins   brand  \\\n",
              "0      All-New Fire HD 8 Tablet, 8 HD Display, Wi-Fi,...  B01AHB9CN2  Amazon   \n",
              "1      All-New Fire HD 8 Tablet, 8 HD Display, Wi-Fi,...  B01AHB9CN2  Amazon   \n",
              "2      All-New Fire HD 8 Tablet, 8 HD Display, Wi-Fi,...  B01AHB9CN2  Amazon   \n",
              "3      All-New Fire HD 8 Tablet, 8 HD Display, Wi-Fi,...  B01AHB9CN2  Amazon   \n",
              "4      All-New Fire HD 8 Tablet, 8 HD Display, Wi-Fi,...  B01AHB9CN2  Amazon   \n",
              "...                                                  ...         ...     ...   \n",
              "34655                                                NaN  B006GWO5WK  Amazon   \n",
              "34656                                                NaN  B006GWO5WK  Amazon   \n",
              "34657                                                NaN  B006GWO5WK  Amazon   \n",
              "34658                                                NaN  B006GWO5WK  Amazon   \n",
              "34659                                                NaN  B006GWO5WK  Amazon   \n",
              "\n",
              "                                              categories  \\\n",
              "0      Electronics,iPad & Tablets,All Tablets,Fire Ta...   \n",
              "1      Electronics,iPad & Tablets,All Tablets,Fire Ta...   \n",
              "2      Electronics,iPad & Tablets,All Tablets,Fire Ta...   \n",
              "3      Electronics,iPad & Tablets,All Tablets,Fire Ta...   \n",
              "4      Electronics,iPad & Tablets,All Tablets,Fire Ta...   \n",
              "...                                                  ...   \n",
              "34655  Computers/Tablets & Networking,Tablet & eBook ...   \n",
              "34656  Computers/Tablets & Networking,Tablet & eBook ...   \n",
              "34657  Computers/Tablets & Networking,Tablet & eBook ...   \n",
              "34658  Computers/Tablets & Networking,Tablet & eBook ...   \n",
              "34659  Computers/Tablets & Networking,Tablet & eBook ...   \n",
              "\n",
              "                                                    keys  \\\n",
              "0      841667104676,amazon/53004484,amazon/b01ahb9cn2...   \n",
              "1      841667104676,amazon/53004484,amazon/b01ahb9cn2...   \n",
              "2      841667104676,amazon/53004484,amazon/b01ahb9cn2...   \n",
              "3      841667104676,amazon/53004484,amazon/b01ahb9cn2...   \n",
              "4      841667104676,amazon/53004484,amazon/b01ahb9cn2...   \n",
              "...                                                  ...   \n",
              "34655  newamazonkindlefirehd9wpowerfastadaptercharger...   \n",
              "34656  newamazonkindlefirehd9wpowerfastadaptercharger...   \n",
              "34657  newamazonkindlefirehd9wpowerfastadaptercharger...   \n",
              "34658  newamazonkindlefirehd9wpowerfastadaptercharger...   \n",
              "34659  newamazonkindlefirehd9wpowerfastadaptercharger...   \n",
              "\n",
              "                       manufacturer              reviews.date  \\\n",
              "0                            Amazon  2017-01-13T00:00:00.000Z   \n",
              "1                            Amazon  2017-01-13T00:00:00.000Z   \n",
              "2                            Amazon  2017-01-13T00:00:00.000Z   \n",
              "3                            Amazon  2017-01-13T00:00:00.000Z   \n",
              "4                            Amazon  2017-01-12T00:00:00.000Z   \n",
              "...                             ...                       ...   \n",
              "34655  Amazon Digital Services, Inc      2012-09-18T00:00:00Z   \n",
              "34656  Amazon Digital Services, Inc      2012-11-21T00:00:00Z   \n",
              "34657  Amazon Digital Services, Inc      2012-10-19T00:00:00Z   \n",
              "34658  Amazon Digital Services, Inc      2012-10-31T00:00:00Z   \n",
              "34659  Amazon Digital Services, Inc      2012-12-23T00:00:00Z   \n",
              "\n",
              "          reviews.dateAdded  \\\n",
              "0      2017-07-03T23:33:15Z   \n",
              "1      2017-07-03T23:33:15Z   \n",
              "2      2017-07-03T23:33:15Z   \n",
              "3      2017-07-03T23:33:15Z   \n",
              "4      2017-07-03T23:33:15Z   \n",
              "...                     ...   \n",
              "34655                   NaN   \n",
              "34656                   NaN   \n",
              "34657                   NaN   \n",
              "34658                   NaN   \n",
              "34659                   NaN   \n",
              "\n",
              "                                        reviews.dateSeen  ...  \\\n",
              "0      2017-06-07T09:04:00.000Z,2017-04-30T00:45:00.000Z  ...   \n",
              "1      2017-06-07T09:04:00.000Z,2017-04-30T00:45:00.000Z  ...   \n",
              "2      2017-06-07T09:04:00.000Z,2017-04-30T00:45:00.000Z  ...   \n",
              "3      2017-06-07T09:04:00.000Z,2017-04-30T00:45:00.000Z  ...   \n",
              "4      2017-06-07T09:04:00.000Z,2017-04-30T00:45:00.000Z  ...   \n",
              "...                                                  ...  ...   \n",
              "34655                               2015-08-29T00:00:00Z  ...   \n",
              "34656                               2015-09-02T00:00:00Z  ...   \n",
              "34657                               2015-09-04T00:00:00Z  ...   \n",
              "34658                               2015-09-01T00:00:00Z  ...   \n",
              "34659                               2015-11-01T00:00:00Z  ...   \n",
              "\n",
              "      reviews.doRecommend reviews.id  reviews.numHelpful  reviews.rating  \\\n",
              "0                    True        NaN                 0.0             5.0   \n",
              "1                    True        NaN                 0.0             5.0   \n",
              "2                    True        NaN                 0.0             5.0   \n",
              "3                    True        NaN                 0.0             4.0   \n",
              "4                    True        NaN                 0.0             5.0   \n",
              "...                   ...        ...                 ...             ...   \n",
              "34655                 NaN        NaN                 NaN             3.0   \n",
              "34656                 NaN        NaN                 NaN             1.0   \n",
              "34657                 NaN        NaN                 NaN             1.0   \n",
              "34658                 NaN        NaN                 NaN             1.0   \n",
              "34659                 NaN        NaN                 NaN             1.0   \n",
              "\n",
              "                                      reviews.sourceURLs  \\\n",
              "0      http://reviews.bestbuy.com/3545/5620406/review...   \n",
              "1      http://reviews.bestbuy.com/3545/5620406/review...   \n",
              "2      http://reviews.bestbuy.com/3545/5620406/review...   \n",
              "3      http://reviews.bestbuy.com/3545/5620406/review...   \n",
              "4      http://reviews.bestbuy.com/3545/5620406/review...   \n",
              "...                                                  ...   \n",
              "34655  http://www.amazon.com/Amazon-PowerFast-Adapter...   \n",
              "34656  http://www.amazon.com/Amazon-PowerFast-Adapter...   \n",
              "34657  http://www.amazon.com/Amazon-PowerFast-Adapter...   \n",
              "34658  http://www.amazon.com/Amazon-PowerFast-Adapter...   \n",
              "34659  http://www.amazon.com/Amazon-PowerFast-Adapter...   \n",
              "\n",
              "                                            reviews.text  \\\n",
              "0      This product so far has not disappointed. My c...   \n",
              "1      great for beginner or experienced person. Boug...   \n",
              "2      Inexpensive tablet for him to use and learn on...   \n",
              "3      I've had my Fire HD 8 two weeks now and I love...   \n",
              "4      I bought this for my grand daughter when she c...   \n",
              "...                                                  ...   \n",
              "34655  This is not appreciably faster than any other ...   \n",
              "34656  Amazon should include this charger with the Ki...   \n",
              "34657  Love my Kindle Fire but I am really disappoint...   \n",
              "34658  I was surprised to find it did not come with a...   \n",
              "34659  to spite the fact that i have nothing but good...   \n",
              "\n",
              "                                           reviews.title reviews.userCity  \\\n",
              "0                                                 Kindle              NaN   \n",
              "1                                              very fast              NaN   \n",
              "2                Beginner tablet for our 9 year old son.              NaN   \n",
              "3                                                Good!!!              NaN   \n",
              "4                              Fantastic Tablet for kids              NaN   \n",
              "...                                                  ...              ...   \n",
              "34655  Not appreciably faster than any other 1.8A cha...              NaN   \n",
              "34656                                 Should be included              NaN   \n",
              "34657                              Disappointing Charger              NaN   \n",
              "34658                                Not worth the money              NaN   \n",
              "34659                              as with everyone else              NaN   \n",
              "\n",
              "       reviews.userProvince  reviews.username  \n",
              "0                       NaN           Adapter  \n",
              "1                       NaN            truman  \n",
              "2                       NaN             DaveZ  \n",
              "3                       NaN            Shacks  \n",
              "4                       NaN         explore42  \n",
              "...                     ...               ...  \n",
              "34655                   NaN              Kris  \n",
              "34656                   NaN  Jonathan Stewart  \n",
              "34657                   NaN          J Lawson  \n",
              "34658                   NaN    Just the Buyer  \n",
              "34659                   NaN             sandi  \n",
              "\n",
              "[34660 rows x 21 columns]"
            ],
            "text/html": [
              "\n",
              "  <div id=\"df-89302e61-dc58-4102-ac0a-b07de12111c3\">\n",
              "    <div class=\"colab-df-container\">\n",
              "      <div>\n",
              "<style scoped>\n",
              "    .dataframe tbody tr th:only-of-type {\n",
              "        vertical-align: middle;\n",
              "    }\n",
              "\n",
              "    .dataframe tbody tr th {\n",
              "        vertical-align: top;\n",
              "    }\n",
              "\n",
              "    .dataframe thead th {\n",
              "        text-align: right;\n",
              "    }\n",
              "</style>\n",
              "<table border=\"1\" class=\"dataframe\">\n",
              "  <thead>\n",
              "    <tr style=\"text-align: right;\">\n",
              "      <th></th>\n",
              "      <th>id</th>\n",
              "      <th>name</th>\n",
              "      <th>asins</th>\n",
              "      <th>brand</th>\n",
              "      <th>categories</th>\n",
              "      <th>keys</th>\n",
              "      <th>manufacturer</th>\n",
              "      <th>reviews.date</th>\n",
              "      <th>reviews.dateAdded</th>\n",
              "      <th>reviews.dateSeen</th>\n",
              "      <th>...</th>\n",
              "      <th>reviews.doRecommend</th>\n",
              "      <th>reviews.id</th>\n",
              "      <th>reviews.numHelpful</th>\n",
              "      <th>reviews.rating</th>\n",
              "      <th>reviews.sourceURLs</th>\n",
              "      <th>reviews.text</th>\n",
              "      <th>reviews.title</th>\n",
              "      <th>reviews.userCity</th>\n",
              "      <th>reviews.userProvince</th>\n",
              "      <th>reviews.username</th>\n",
              "    </tr>\n",
              "  </thead>\n",
              "  <tbody>\n",
              "    <tr>\n",
              "      <th>0</th>\n",
              "      <td>AVqkIhwDv8e3D1O-lebb</td>\n",
              "      <td>All-New Fire HD 8 Tablet, 8 HD Display, Wi-Fi,...</td>\n",
              "      <td>B01AHB9CN2</td>\n",
              "      <td>Amazon</td>\n",
              "      <td>Electronics,iPad &amp; Tablets,All Tablets,Fire Ta...</td>\n",
              "      <td>841667104676,amazon/53004484,amazon/b01ahb9cn2...</td>\n",
              "      <td>Amazon</td>\n",
              "      <td>2017-01-13T00:00:00.000Z</td>\n",
              "      <td>2017-07-03T23:33:15Z</td>\n",
              "      <td>2017-06-07T09:04:00.000Z,2017-04-30T00:45:00.000Z</td>\n",
              "      <td>...</td>\n",
              "      <td>True</td>\n",
              "      <td>NaN</td>\n",
              "      <td>0.0</td>\n",
              "      <td>5.0</td>\n",
              "      <td>http://reviews.bestbuy.com/3545/5620406/review...</td>\n",
              "      <td>This product so far has not disappointed. My c...</td>\n",
              "      <td>Kindle</td>\n",
              "      <td>NaN</td>\n",
              "      <td>NaN</td>\n",
              "      <td>Adapter</td>\n",
              "    </tr>\n",
              "    <tr>\n",
              "      <th>1</th>\n",
              "      <td>AVqkIhwDv8e3D1O-lebb</td>\n",
              "      <td>All-New Fire HD 8 Tablet, 8 HD Display, Wi-Fi,...</td>\n",
              "      <td>B01AHB9CN2</td>\n",
              "      <td>Amazon</td>\n",
              "      <td>Electronics,iPad &amp; Tablets,All Tablets,Fire Ta...</td>\n",
              "      <td>841667104676,amazon/53004484,amazon/b01ahb9cn2...</td>\n",
              "      <td>Amazon</td>\n",
              "      <td>2017-01-13T00:00:00.000Z</td>\n",
              "      <td>2017-07-03T23:33:15Z</td>\n",
              "      <td>2017-06-07T09:04:00.000Z,2017-04-30T00:45:00.000Z</td>\n",
              "      <td>...</td>\n",
              "      <td>True</td>\n",
              "      <td>NaN</td>\n",
              "      <td>0.0</td>\n",
              "      <td>5.0</td>\n",
              "      <td>http://reviews.bestbuy.com/3545/5620406/review...</td>\n",
              "      <td>great for beginner or experienced person. Boug...</td>\n",
              "      <td>very fast</td>\n",
              "      <td>NaN</td>\n",
              "      <td>NaN</td>\n",
              "      <td>truman</td>\n",
              "    </tr>\n",
              "    <tr>\n",
              "      <th>2</th>\n",
              "      <td>AVqkIhwDv8e3D1O-lebb</td>\n",
              "      <td>All-New Fire HD 8 Tablet, 8 HD Display, Wi-Fi,...</td>\n",
              "      <td>B01AHB9CN2</td>\n",
              "      <td>Amazon</td>\n",
              "      <td>Electronics,iPad &amp; Tablets,All Tablets,Fire Ta...</td>\n",
              "      <td>841667104676,amazon/53004484,amazon/b01ahb9cn2...</td>\n",
              "      <td>Amazon</td>\n",
              "      <td>2017-01-13T00:00:00.000Z</td>\n",
              "      <td>2017-07-03T23:33:15Z</td>\n",
              "      <td>2017-06-07T09:04:00.000Z,2017-04-30T00:45:00.000Z</td>\n",
              "      <td>...</td>\n",
              "      <td>True</td>\n",
              "      <td>NaN</td>\n",
              "      <td>0.0</td>\n",
              "      <td>5.0</td>\n",
              "      <td>http://reviews.bestbuy.com/3545/5620406/review...</td>\n",
              "      <td>Inexpensive tablet for him to use and learn on...</td>\n",
              "      <td>Beginner tablet for our 9 year old son.</td>\n",
              "      <td>NaN</td>\n",
              "      <td>NaN</td>\n",
              "      <td>DaveZ</td>\n",
              "    </tr>\n",
              "    <tr>\n",
              "      <th>3</th>\n",
              "      <td>AVqkIhwDv8e3D1O-lebb</td>\n",
              "      <td>All-New Fire HD 8 Tablet, 8 HD Display, Wi-Fi,...</td>\n",
              "      <td>B01AHB9CN2</td>\n",
              "      <td>Amazon</td>\n",
              "      <td>Electronics,iPad &amp; Tablets,All Tablets,Fire Ta...</td>\n",
              "      <td>841667104676,amazon/53004484,amazon/b01ahb9cn2...</td>\n",
              "      <td>Amazon</td>\n",
              "      <td>2017-01-13T00:00:00.000Z</td>\n",
              "      <td>2017-07-03T23:33:15Z</td>\n",
              "      <td>2017-06-07T09:04:00.000Z,2017-04-30T00:45:00.000Z</td>\n",
              "      <td>...</td>\n",
              "      <td>True</td>\n",
              "      <td>NaN</td>\n",
              "      <td>0.0</td>\n",
              "      <td>4.0</td>\n",
              "      <td>http://reviews.bestbuy.com/3545/5620406/review...</td>\n",
              "      <td>I've had my Fire HD 8 two weeks now and I love...</td>\n",
              "      <td>Good!!!</td>\n",
              "      <td>NaN</td>\n",
              "      <td>NaN</td>\n",
              "      <td>Shacks</td>\n",
              "    </tr>\n",
              "    <tr>\n",
              "      <th>4</th>\n",
              "      <td>AVqkIhwDv8e3D1O-lebb</td>\n",
              "      <td>All-New Fire HD 8 Tablet, 8 HD Display, Wi-Fi,...</td>\n",
              "      <td>B01AHB9CN2</td>\n",
              "      <td>Amazon</td>\n",
              "      <td>Electronics,iPad &amp; Tablets,All Tablets,Fire Ta...</td>\n",
              "      <td>841667104676,amazon/53004484,amazon/b01ahb9cn2...</td>\n",
              "      <td>Amazon</td>\n",
              "      <td>2017-01-12T00:00:00.000Z</td>\n",
              "      <td>2017-07-03T23:33:15Z</td>\n",
              "      <td>2017-06-07T09:04:00.000Z,2017-04-30T00:45:00.000Z</td>\n",
              "      <td>...</td>\n",
              "      <td>True</td>\n",
              "      <td>NaN</td>\n",
              "      <td>0.0</td>\n",
              "      <td>5.0</td>\n",
              "      <td>http://reviews.bestbuy.com/3545/5620406/review...</td>\n",
              "      <td>I bought this for my grand daughter when she c...</td>\n",
              "      <td>Fantastic Tablet for kids</td>\n",
              "      <td>NaN</td>\n",
              "      <td>NaN</td>\n",
              "      <td>explore42</td>\n",
              "    </tr>\n",
              "    <tr>\n",
              "      <th>...</th>\n",
              "      <td>...</td>\n",
              "      <td>...</td>\n",
              "      <td>...</td>\n",
              "      <td>...</td>\n",
              "      <td>...</td>\n",
              "      <td>...</td>\n",
              "      <td>...</td>\n",
              "      <td>...</td>\n",
              "      <td>...</td>\n",
              "      <td>...</td>\n",
              "      <td>...</td>\n",
              "      <td>...</td>\n",
              "      <td>...</td>\n",
              "      <td>...</td>\n",
              "      <td>...</td>\n",
              "      <td>...</td>\n",
              "      <td>...</td>\n",
              "      <td>...</td>\n",
              "      <td>...</td>\n",
              "      <td>...</td>\n",
              "      <td>...</td>\n",
              "    </tr>\n",
              "    <tr>\n",
              "      <th>34655</th>\n",
              "      <td>AVpfiBlyLJeJML43-4Tp</td>\n",
              "      <td>NaN</td>\n",
              "      <td>B006GWO5WK</td>\n",
              "      <td>Amazon</td>\n",
              "      <td>Computers/Tablets &amp; Networking,Tablet &amp; eBook ...</td>\n",
              "      <td>newamazonkindlefirehd9wpowerfastadaptercharger...</td>\n",
              "      <td>Amazon Digital Services, Inc</td>\n",
              "      <td>2012-09-18T00:00:00Z</td>\n",
              "      <td>NaN</td>\n",
              "      <td>2015-08-29T00:00:00Z</td>\n",
              "      <td>...</td>\n",
              "      <td>NaN</td>\n",
              "      <td>NaN</td>\n",
              "      <td>NaN</td>\n",
              "      <td>3.0</td>\n",
              "      <td>http://www.amazon.com/Amazon-PowerFast-Adapter...</td>\n",
              "      <td>This is not appreciably faster than any other ...</td>\n",
              "      <td>Not appreciably faster than any other 1.8A cha...</td>\n",
              "      <td>NaN</td>\n",
              "      <td>NaN</td>\n",
              "      <td>Kris</td>\n",
              "    </tr>\n",
              "    <tr>\n",
              "      <th>34656</th>\n",
              "      <td>AVpfiBlyLJeJML43-4Tp</td>\n",
              "      <td>NaN</td>\n",
              "      <td>B006GWO5WK</td>\n",
              "      <td>Amazon</td>\n",
              "      <td>Computers/Tablets &amp; Networking,Tablet &amp; eBook ...</td>\n",
              "      <td>newamazonkindlefirehd9wpowerfastadaptercharger...</td>\n",
              "      <td>Amazon Digital Services, Inc</td>\n",
              "      <td>2012-11-21T00:00:00Z</td>\n",
              "      <td>NaN</td>\n",
              "      <td>2015-09-02T00:00:00Z</td>\n",
              "      <td>...</td>\n",
              "      <td>NaN</td>\n",
              "      <td>NaN</td>\n",
              "      <td>NaN</td>\n",
              "      <td>1.0</td>\n",
              "      <td>http://www.amazon.com/Amazon-PowerFast-Adapter...</td>\n",
              "      <td>Amazon should include this charger with the Ki...</td>\n",
              "      <td>Should be included</td>\n",
              "      <td>NaN</td>\n",
              "      <td>NaN</td>\n",
              "      <td>Jonathan Stewart</td>\n",
              "    </tr>\n",
              "    <tr>\n",
              "      <th>34657</th>\n",
              "      <td>AVpfiBlyLJeJML43-4Tp</td>\n",
              "      <td>NaN</td>\n",
              "      <td>B006GWO5WK</td>\n",
              "      <td>Amazon</td>\n",
              "      <td>Computers/Tablets &amp; Networking,Tablet &amp; eBook ...</td>\n",
              "      <td>newamazonkindlefirehd9wpowerfastadaptercharger...</td>\n",
              "      <td>Amazon Digital Services, Inc</td>\n",
              "      <td>2012-10-19T00:00:00Z</td>\n",
              "      <td>NaN</td>\n",
              "      <td>2015-09-04T00:00:00Z</td>\n",
              "      <td>...</td>\n",
              "      <td>NaN</td>\n",
              "      <td>NaN</td>\n",
              "      <td>NaN</td>\n",
              "      <td>1.0</td>\n",
              "      <td>http://www.amazon.com/Amazon-PowerFast-Adapter...</td>\n",
              "      <td>Love my Kindle Fire but I am really disappoint...</td>\n",
              "      <td>Disappointing Charger</td>\n",
              "      <td>NaN</td>\n",
              "      <td>NaN</td>\n",
              "      <td>J Lawson</td>\n",
              "    </tr>\n",
              "    <tr>\n",
              "      <th>34658</th>\n",
              "      <td>AVpfiBlyLJeJML43-4Tp</td>\n",
              "      <td>NaN</td>\n",
              "      <td>B006GWO5WK</td>\n",
              "      <td>Amazon</td>\n",
              "      <td>Computers/Tablets &amp; Networking,Tablet &amp; eBook ...</td>\n",
              "      <td>newamazonkindlefirehd9wpowerfastadaptercharger...</td>\n",
              "      <td>Amazon Digital Services, Inc</td>\n",
              "      <td>2012-10-31T00:00:00Z</td>\n",
              "      <td>NaN</td>\n",
              "      <td>2015-09-01T00:00:00Z</td>\n",
              "      <td>...</td>\n",
              "      <td>NaN</td>\n",
              "      <td>NaN</td>\n",
              "      <td>NaN</td>\n",
              "      <td>1.0</td>\n",
              "      <td>http://www.amazon.com/Amazon-PowerFast-Adapter...</td>\n",
              "      <td>I was surprised to find it did not come with a...</td>\n",
              "      <td>Not worth the money</td>\n",
              "      <td>NaN</td>\n",
              "      <td>NaN</td>\n",
              "      <td>Just the Buyer</td>\n",
              "    </tr>\n",
              "    <tr>\n",
              "      <th>34659</th>\n",
              "      <td>AVpfiBlyLJeJML43-4Tp</td>\n",
              "      <td>NaN</td>\n",
              "      <td>B006GWO5WK</td>\n",
              "      <td>Amazon</td>\n",
              "      <td>Computers/Tablets &amp; Networking,Tablet &amp; eBook ...</td>\n",
              "      <td>newamazonkindlefirehd9wpowerfastadaptercharger...</td>\n",
              "      <td>Amazon Digital Services, Inc</td>\n",
              "      <td>2012-12-23T00:00:00Z</td>\n",
              "      <td>NaN</td>\n",
              "      <td>2015-11-01T00:00:00Z</td>\n",
              "      <td>...</td>\n",
              "      <td>NaN</td>\n",
              "      <td>NaN</td>\n",
              "      <td>NaN</td>\n",
              "      <td>1.0</td>\n",
              "      <td>http://www.amazon.com/Amazon-PowerFast-Adapter...</td>\n",
              "      <td>to spite the fact that i have nothing but good...</td>\n",
              "      <td>as with everyone else</td>\n",
              "      <td>NaN</td>\n",
              "      <td>NaN</td>\n",
              "      <td>sandi</td>\n",
              "    </tr>\n",
              "  </tbody>\n",
              "</table>\n",
              "<p>34660 rows × 21 columns</p>\n",
              "</div>\n",
              "      <button class=\"colab-df-convert\" onclick=\"convertToInteractive('df-89302e61-dc58-4102-ac0a-b07de12111c3')\"\n",
              "              title=\"Convert this dataframe to an interactive table.\"\n",
              "              style=\"display:none;\">\n",
              "        \n",
              "  <svg xmlns=\"http://www.w3.org/2000/svg\" height=\"24px\"viewBox=\"0 0 24 24\"\n",
              "       width=\"24px\">\n",
              "    <path d=\"M0 0h24v24H0V0z\" fill=\"none\"/>\n",
              "    <path d=\"M18.56 5.44l.94 2.06.94-2.06 2.06-.94-2.06-.94-.94-2.06-.94 2.06-2.06.94zm-11 1L8.5 8.5l.94-2.06 2.06-.94-2.06-.94L8.5 2.5l-.94 2.06-2.06.94zm10 10l.94 2.06.94-2.06 2.06-.94-2.06-.94-.94-2.06-.94 2.06-2.06.94z\"/><path d=\"M17.41 7.96l-1.37-1.37c-.4-.4-.92-.59-1.43-.59-.52 0-1.04.2-1.43.59L10.3 9.45l-7.72 7.72c-.78.78-.78 2.05 0 2.83L4 21.41c.39.39.9.59 1.41.59.51 0 1.02-.2 1.41-.59l7.78-7.78 2.81-2.81c.8-.78.8-2.07 0-2.86zM5.41 20L4 18.59l7.72-7.72 1.47 1.35L5.41 20z\"/>\n",
              "  </svg>\n",
              "      </button>\n",
              "      \n",
              "  <style>\n",
              "    .colab-df-container {\n",
              "      display:flex;\n",
              "      flex-wrap:wrap;\n",
              "      gap: 12px;\n",
              "    }\n",
              "\n",
              "    .colab-df-convert {\n",
              "      background-color: #E8F0FE;\n",
              "      border: none;\n",
              "      border-radius: 50%;\n",
              "      cursor: pointer;\n",
              "      display: none;\n",
              "      fill: #1967D2;\n",
              "      height: 32px;\n",
              "      padding: 0 0 0 0;\n",
              "      width: 32px;\n",
              "    }\n",
              "\n",
              "    .colab-df-convert:hover {\n",
              "      background-color: #E2EBFA;\n",
              "      box-shadow: 0px 1px 2px rgba(60, 64, 67, 0.3), 0px 1px 3px 1px rgba(60, 64, 67, 0.15);\n",
              "      fill: #174EA6;\n",
              "    }\n",
              "\n",
              "    [theme=dark] .colab-df-convert {\n",
              "      background-color: #3B4455;\n",
              "      fill: #D2E3FC;\n",
              "    }\n",
              "\n",
              "    [theme=dark] .colab-df-convert:hover {\n",
              "      background-color: #434B5C;\n",
              "      box-shadow: 0px 1px 3px 1px rgba(0, 0, 0, 0.15);\n",
              "      filter: drop-shadow(0px 1px 2px rgba(0, 0, 0, 0.3));\n",
              "      fill: #FFFFFF;\n",
              "    }\n",
              "  </style>\n",
              "\n",
              "      <script>\n",
              "        const buttonEl =\n",
              "          document.querySelector('#df-89302e61-dc58-4102-ac0a-b07de12111c3 button.colab-df-convert');\n",
              "        buttonEl.style.display =\n",
              "          google.colab.kernel.accessAllowed ? 'block' : 'none';\n",
              "\n",
              "        async function convertToInteractive(key) {\n",
              "          const element = document.querySelector('#df-89302e61-dc58-4102-ac0a-b07de12111c3');\n",
              "          const dataTable =\n",
              "            await google.colab.kernel.invokeFunction('convertToInteractive',\n",
              "                                                     [key], {});\n",
              "          if (!dataTable) return;\n",
              "\n",
              "          const docLinkHtml = 'Like what you see? Visit the ' +\n",
              "            '<a target=\"_blank\" href=https://colab.research.google.com/notebooks/data_table.ipynb>data table notebook</a>'\n",
              "            + ' to learn more about interactive tables.';\n",
              "          element.innerHTML = '';\n",
              "          dataTable['output_type'] = 'display_data';\n",
              "          await google.colab.output.renderOutput(dataTable, element);\n",
              "          const docLink = document.createElement('div');\n",
              "          docLink.innerHTML = docLinkHtml;\n",
              "          element.appendChild(docLink);\n",
              "        }\n",
              "      </script>\n",
              "    </div>\n",
              "  </div>\n",
              "  "
            ]
          },
          "metadata": {},
          "execution_count": 9
        }
      ]
    },
    {
      "cell_type": "code",
      "metadata": {
        "id": "27ldoAuEoVr4",
        "colab": {
          "base_uri": "https://localhost:8080/"
        },
        "outputId": "e07f24b7-bdec-404e-a716-d83e6a155107"
      },
      "source": [
        "missing=data.isnull().sum()\n",
        "missing"
      ],
      "execution_count": null,
      "outputs": [
        {
          "output_type": "execute_result",
          "data": {
            "text/plain": [
              "id                          0\n",
              "name                     6760\n",
              "asins                       2\n",
              "brand                       0\n",
              "categories                  0\n",
              "keys                        0\n",
              "manufacturer                0\n",
              "reviews.date               39\n",
              "reviews.dateAdded       10621\n",
              "reviews.dateSeen            0\n",
              "reviews.didPurchase     34659\n",
              "reviews.doRecommend       594\n",
              "reviews.id              34659\n",
              "reviews.numHelpful        529\n",
              "reviews.rating              0\n",
              "reviews.sourceURLs          0\n",
              "reviews.text                0\n",
              "reviews.title               5\n",
              "reviews.userCity        34660\n",
              "reviews.userProvince    34660\n",
              "reviews.username            2\n",
              "dtype: int64"
            ]
          },
          "metadata": {},
          "execution_count": 10
        }
      ]
    },
    {
      "cell_type": "code",
      "metadata": {
        "id": "7rw3ZEWaZjMj",
        "colab": {
          "base_uri": "https://localhost:8080/"
        },
        "outputId": "69975759-7ee2-40a0-da58-b4ea4a54b384"
      },
      "source": [
        "print(len(data))"
      ],
      "execution_count": null,
      "outputs": [
        {
          "output_type": "stream",
          "name": "stdout",
          "text": [
            "34660\n"
          ]
        }
      ]
    },
    {
      "cell_type": "code",
      "metadata": {
        "id": "sKVf3rcpqA1O"
      },
      "source": [
        "data=pd.DataFrame(data)"
      ],
      "execution_count": null,
      "outputs": []
    },
    {
      "cell_type": "code",
      "metadata": {
        "id": "9nzmpajvqHcc",
        "colab": {
          "base_uri": "https://localhost:8080/",
          "height": 1000
        },
        "outputId": "aa559135-8380-4c73-a4d5-d3f42bccbff3"
      },
      "source": [
        "data"
      ],
      "execution_count": null,
      "outputs": [
        {
          "output_type": "execute_result",
          "data": {
            "text/plain": [
              "                         id  \\\n",
              "0      AVqkIhwDv8e3D1O-lebb   \n",
              "1      AVqkIhwDv8e3D1O-lebb   \n",
              "2      AVqkIhwDv8e3D1O-lebb   \n",
              "3      AVqkIhwDv8e3D1O-lebb   \n",
              "4      AVqkIhwDv8e3D1O-lebb   \n",
              "...                     ...   \n",
              "34655  AVpfiBlyLJeJML43-4Tp   \n",
              "34656  AVpfiBlyLJeJML43-4Tp   \n",
              "34657  AVpfiBlyLJeJML43-4Tp   \n",
              "34658  AVpfiBlyLJeJML43-4Tp   \n",
              "34659  AVpfiBlyLJeJML43-4Tp   \n",
              "\n",
              "                                                    name       asins   brand  \\\n",
              "0      All-New Fire HD 8 Tablet, 8 HD Display, Wi-Fi,...  B01AHB9CN2  Amazon   \n",
              "1      All-New Fire HD 8 Tablet, 8 HD Display, Wi-Fi,...  B01AHB9CN2  Amazon   \n",
              "2      All-New Fire HD 8 Tablet, 8 HD Display, Wi-Fi,...  B01AHB9CN2  Amazon   \n",
              "3      All-New Fire HD 8 Tablet, 8 HD Display, Wi-Fi,...  B01AHB9CN2  Amazon   \n",
              "4      All-New Fire HD 8 Tablet, 8 HD Display, Wi-Fi,...  B01AHB9CN2  Amazon   \n",
              "...                                                  ...         ...     ...   \n",
              "34655                                                NaN  B006GWO5WK  Amazon   \n",
              "34656                                                NaN  B006GWO5WK  Amazon   \n",
              "34657                                                NaN  B006GWO5WK  Amazon   \n",
              "34658                                                NaN  B006GWO5WK  Amazon   \n",
              "34659                                                NaN  B006GWO5WK  Amazon   \n",
              "\n",
              "                                              categories  \\\n",
              "0      Electronics,iPad & Tablets,All Tablets,Fire Ta...   \n",
              "1      Electronics,iPad & Tablets,All Tablets,Fire Ta...   \n",
              "2      Electronics,iPad & Tablets,All Tablets,Fire Ta...   \n",
              "3      Electronics,iPad & Tablets,All Tablets,Fire Ta...   \n",
              "4      Electronics,iPad & Tablets,All Tablets,Fire Ta...   \n",
              "...                                                  ...   \n",
              "34655  Computers/Tablets & Networking,Tablet & eBook ...   \n",
              "34656  Computers/Tablets & Networking,Tablet & eBook ...   \n",
              "34657  Computers/Tablets & Networking,Tablet & eBook ...   \n",
              "34658  Computers/Tablets & Networking,Tablet & eBook ...   \n",
              "34659  Computers/Tablets & Networking,Tablet & eBook ...   \n",
              "\n",
              "                                                    keys  \\\n",
              "0      841667104676,amazon/53004484,amazon/b01ahb9cn2...   \n",
              "1      841667104676,amazon/53004484,amazon/b01ahb9cn2...   \n",
              "2      841667104676,amazon/53004484,amazon/b01ahb9cn2...   \n",
              "3      841667104676,amazon/53004484,amazon/b01ahb9cn2...   \n",
              "4      841667104676,amazon/53004484,amazon/b01ahb9cn2...   \n",
              "...                                                  ...   \n",
              "34655  newamazonkindlefirehd9wpowerfastadaptercharger...   \n",
              "34656  newamazonkindlefirehd9wpowerfastadaptercharger...   \n",
              "34657  newamazonkindlefirehd9wpowerfastadaptercharger...   \n",
              "34658  newamazonkindlefirehd9wpowerfastadaptercharger...   \n",
              "34659  newamazonkindlefirehd9wpowerfastadaptercharger...   \n",
              "\n",
              "                       manufacturer              reviews.date  \\\n",
              "0                            Amazon  2017-01-13T00:00:00.000Z   \n",
              "1                            Amazon  2017-01-13T00:00:00.000Z   \n",
              "2                            Amazon  2017-01-13T00:00:00.000Z   \n",
              "3                            Amazon  2017-01-13T00:00:00.000Z   \n",
              "4                            Amazon  2017-01-12T00:00:00.000Z   \n",
              "...                             ...                       ...   \n",
              "34655  Amazon Digital Services, Inc      2012-09-18T00:00:00Z   \n",
              "34656  Amazon Digital Services, Inc      2012-11-21T00:00:00Z   \n",
              "34657  Amazon Digital Services, Inc      2012-10-19T00:00:00Z   \n",
              "34658  Amazon Digital Services, Inc      2012-10-31T00:00:00Z   \n",
              "34659  Amazon Digital Services, Inc      2012-12-23T00:00:00Z   \n",
              "\n",
              "          reviews.dateAdded  \\\n",
              "0      2017-07-03T23:33:15Z   \n",
              "1      2017-07-03T23:33:15Z   \n",
              "2      2017-07-03T23:33:15Z   \n",
              "3      2017-07-03T23:33:15Z   \n",
              "4      2017-07-03T23:33:15Z   \n",
              "...                     ...   \n",
              "34655                   NaN   \n",
              "34656                   NaN   \n",
              "34657                   NaN   \n",
              "34658                   NaN   \n",
              "34659                   NaN   \n",
              "\n",
              "                                        reviews.dateSeen  ...  \\\n",
              "0      2017-06-07T09:04:00.000Z,2017-04-30T00:45:00.000Z  ...   \n",
              "1      2017-06-07T09:04:00.000Z,2017-04-30T00:45:00.000Z  ...   \n",
              "2      2017-06-07T09:04:00.000Z,2017-04-30T00:45:00.000Z  ...   \n",
              "3      2017-06-07T09:04:00.000Z,2017-04-30T00:45:00.000Z  ...   \n",
              "4      2017-06-07T09:04:00.000Z,2017-04-30T00:45:00.000Z  ...   \n",
              "...                                                  ...  ...   \n",
              "34655                               2015-08-29T00:00:00Z  ...   \n",
              "34656                               2015-09-02T00:00:00Z  ...   \n",
              "34657                               2015-09-04T00:00:00Z  ...   \n",
              "34658                               2015-09-01T00:00:00Z  ...   \n",
              "34659                               2015-11-01T00:00:00Z  ...   \n",
              "\n",
              "      reviews.doRecommend reviews.id  reviews.numHelpful  reviews.rating  \\\n",
              "0                    True        NaN                 0.0             5.0   \n",
              "1                    True        NaN                 0.0             5.0   \n",
              "2                    True        NaN                 0.0             5.0   \n",
              "3                    True        NaN                 0.0             4.0   \n",
              "4                    True        NaN                 0.0             5.0   \n",
              "...                   ...        ...                 ...             ...   \n",
              "34655                 NaN        NaN                 NaN             3.0   \n",
              "34656                 NaN        NaN                 NaN             1.0   \n",
              "34657                 NaN        NaN                 NaN             1.0   \n",
              "34658                 NaN        NaN                 NaN             1.0   \n",
              "34659                 NaN        NaN                 NaN             1.0   \n",
              "\n",
              "                                      reviews.sourceURLs  \\\n",
              "0      http://reviews.bestbuy.com/3545/5620406/review...   \n",
              "1      http://reviews.bestbuy.com/3545/5620406/review...   \n",
              "2      http://reviews.bestbuy.com/3545/5620406/review...   \n",
              "3      http://reviews.bestbuy.com/3545/5620406/review...   \n",
              "4      http://reviews.bestbuy.com/3545/5620406/review...   \n",
              "...                                                  ...   \n",
              "34655  http://www.amazon.com/Amazon-PowerFast-Adapter...   \n",
              "34656  http://www.amazon.com/Amazon-PowerFast-Adapter...   \n",
              "34657  http://www.amazon.com/Amazon-PowerFast-Adapter...   \n",
              "34658  http://www.amazon.com/Amazon-PowerFast-Adapter...   \n",
              "34659  http://www.amazon.com/Amazon-PowerFast-Adapter...   \n",
              "\n",
              "                                            reviews.text  \\\n",
              "0      This product so far has not disappointed. My c...   \n",
              "1      great for beginner or experienced person. Boug...   \n",
              "2      Inexpensive tablet for him to use and learn on...   \n",
              "3      I've had my Fire HD 8 two weeks now and I love...   \n",
              "4      I bought this for my grand daughter when she c...   \n",
              "...                                                  ...   \n",
              "34655  This is not appreciably faster than any other ...   \n",
              "34656  Amazon should include this charger with the Ki...   \n",
              "34657  Love my Kindle Fire but I am really disappoint...   \n",
              "34658  I was surprised to find it did not come with a...   \n",
              "34659  to spite the fact that i have nothing but good...   \n",
              "\n",
              "                                           reviews.title reviews.userCity  \\\n",
              "0                                                 Kindle              NaN   \n",
              "1                                              very fast              NaN   \n",
              "2                Beginner tablet for our 9 year old son.              NaN   \n",
              "3                                                Good!!!              NaN   \n",
              "4                              Fantastic Tablet for kids              NaN   \n",
              "...                                                  ...              ...   \n",
              "34655  Not appreciably faster than any other 1.8A cha...              NaN   \n",
              "34656                                 Should be included              NaN   \n",
              "34657                              Disappointing Charger              NaN   \n",
              "34658                                Not worth the money              NaN   \n",
              "34659                              as with everyone else              NaN   \n",
              "\n",
              "       reviews.userProvince  reviews.username  \n",
              "0                       NaN           Adapter  \n",
              "1                       NaN            truman  \n",
              "2                       NaN             DaveZ  \n",
              "3                       NaN            Shacks  \n",
              "4                       NaN         explore42  \n",
              "...                     ...               ...  \n",
              "34655                   NaN              Kris  \n",
              "34656                   NaN  Jonathan Stewart  \n",
              "34657                   NaN          J Lawson  \n",
              "34658                   NaN    Just the Buyer  \n",
              "34659                   NaN             sandi  \n",
              "\n",
              "[34660 rows x 21 columns]"
            ],
            "text/html": [
              "\n",
              "  <div id=\"df-5d930f7f-abac-4edc-9446-db3644b75c21\">\n",
              "    <div class=\"colab-df-container\">\n",
              "      <div>\n",
              "<style scoped>\n",
              "    .dataframe tbody tr th:only-of-type {\n",
              "        vertical-align: middle;\n",
              "    }\n",
              "\n",
              "    .dataframe tbody tr th {\n",
              "        vertical-align: top;\n",
              "    }\n",
              "\n",
              "    .dataframe thead th {\n",
              "        text-align: right;\n",
              "    }\n",
              "</style>\n",
              "<table border=\"1\" class=\"dataframe\">\n",
              "  <thead>\n",
              "    <tr style=\"text-align: right;\">\n",
              "      <th></th>\n",
              "      <th>id</th>\n",
              "      <th>name</th>\n",
              "      <th>asins</th>\n",
              "      <th>brand</th>\n",
              "      <th>categories</th>\n",
              "      <th>keys</th>\n",
              "      <th>manufacturer</th>\n",
              "      <th>reviews.date</th>\n",
              "      <th>reviews.dateAdded</th>\n",
              "      <th>reviews.dateSeen</th>\n",
              "      <th>...</th>\n",
              "      <th>reviews.doRecommend</th>\n",
              "      <th>reviews.id</th>\n",
              "      <th>reviews.numHelpful</th>\n",
              "      <th>reviews.rating</th>\n",
              "      <th>reviews.sourceURLs</th>\n",
              "      <th>reviews.text</th>\n",
              "      <th>reviews.title</th>\n",
              "      <th>reviews.userCity</th>\n",
              "      <th>reviews.userProvince</th>\n",
              "      <th>reviews.username</th>\n",
              "    </tr>\n",
              "  </thead>\n",
              "  <tbody>\n",
              "    <tr>\n",
              "      <th>0</th>\n",
              "      <td>AVqkIhwDv8e3D1O-lebb</td>\n",
              "      <td>All-New Fire HD 8 Tablet, 8 HD Display, Wi-Fi,...</td>\n",
              "      <td>B01AHB9CN2</td>\n",
              "      <td>Amazon</td>\n",
              "      <td>Electronics,iPad &amp; Tablets,All Tablets,Fire Ta...</td>\n",
              "      <td>841667104676,amazon/53004484,amazon/b01ahb9cn2...</td>\n",
              "      <td>Amazon</td>\n",
              "      <td>2017-01-13T00:00:00.000Z</td>\n",
              "      <td>2017-07-03T23:33:15Z</td>\n",
              "      <td>2017-06-07T09:04:00.000Z,2017-04-30T00:45:00.000Z</td>\n",
              "      <td>...</td>\n",
              "      <td>True</td>\n",
              "      <td>NaN</td>\n",
              "      <td>0.0</td>\n",
              "      <td>5.0</td>\n",
              "      <td>http://reviews.bestbuy.com/3545/5620406/review...</td>\n",
              "      <td>This product so far has not disappointed. My c...</td>\n",
              "      <td>Kindle</td>\n",
              "      <td>NaN</td>\n",
              "      <td>NaN</td>\n",
              "      <td>Adapter</td>\n",
              "    </tr>\n",
              "    <tr>\n",
              "      <th>1</th>\n",
              "      <td>AVqkIhwDv8e3D1O-lebb</td>\n",
              "      <td>All-New Fire HD 8 Tablet, 8 HD Display, Wi-Fi,...</td>\n",
              "      <td>B01AHB9CN2</td>\n",
              "      <td>Amazon</td>\n",
              "      <td>Electronics,iPad &amp; Tablets,All Tablets,Fire Ta...</td>\n",
              "      <td>841667104676,amazon/53004484,amazon/b01ahb9cn2...</td>\n",
              "      <td>Amazon</td>\n",
              "      <td>2017-01-13T00:00:00.000Z</td>\n",
              "      <td>2017-07-03T23:33:15Z</td>\n",
              "      <td>2017-06-07T09:04:00.000Z,2017-04-30T00:45:00.000Z</td>\n",
              "      <td>...</td>\n",
              "      <td>True</td>\n",
              "      <td>NaN</td>\n",
              "      <td>0.0</td>\n",
              "      <td>5.0</td>\n",
              "      <td>http://reviews.bestbuy.com/3545/5620406/review...</td>\n",
              "      <td>great for beginner or experienced person. Boug...</td>\n",
              "      <td>very fast</td>\n",
              "      <td>NaN</td>\n",
              "      <td>NaN</td>\n",
              "      <td>truman</td>\n",
              "    </tr>\n",
              "    <tr>\n",
              "      <th>2</th>\n",
              "      <td>AVqkIhwDv8e3D1O-lebb</td>\n",
              "      <td>All-New Fire HD 8 Tablet, 8 HD Display, Wi-Fi,...</td>\n",
              "      <td>B01AHB9CN2</td>\n",
              "      <td>Amazon</td>\n",
              "      <td>Electronics,iPad &amp; Tablets,All Tablets,Fire Ta...</td>\n",
              "      <td>841667104676,amazon/53004484,amazon/b01ahb9cn2...</td>\n",
              "      <td>Amazon</td>\n",
              "      <td>2017-01-13T00:00:00.000Z</td>\n",
              "      <td>2017-07-03T23:33:15Z</td>\n",
              "      <td>2017-06-07T09:04:00.000Z,2017-04-30T00:45:00.000Z</td>\n",
              "      <td>...</td>\n",
              "      <td>True</td>\n",
              "      <td>NaN</td>\n",
              "      <td>0.0</td>\n",
              "      <td>5.0</td>\n",
              "      <td>http://reviews.bestbuy.com/3545/5620406/review...</td>\n",
              "      <td>Inexpensive tablet for him to use and learn on...</td>\n",
              "      <td>Beginner tablet for our 9 year old son.</td>\n",
              "      <td>NaN</td>\n",
              "      <td>NaN</td>\n",
              "      <td>DaveZ</td>\n",
              "    </tr>\n",
              "    <tr>\n",
              "      <th>3</th>\n",
              "      <td>AVqkIhwDv8e3D1O-lebb</td>\n",
              "      <td>All-New Fire HD 8 Tablet, 8 HD Display, Wi-Fi,...</td>\n",
              "      <td>B01AHB9CN2</td>\n",
              "      <td>Amazon</td>\n",
              "      <td>Electronics,iPad &amp; Tablets,All Tablets,Fire Ta...</td>\n",
              "      <td>841667104676,amazon/53004484,amazon/b01ahb9cn2...</td>\n",
              "      <td>Amazon</td>\n",
              "      <td>2017-01-13T00:00:00.000Z</td>\n",
              "      <td>2017-07-03T23:33:15Z</td>\n",
              "      <td>2017-06-07T09:04:00.000Z,2017-04-30T00:45:00.000Z</td>\n",
              "      <td>...</td>\n",
              "      <td>True</td>\n",
              "      <td>NaN</td>\n",
              "      <td>0.0</td>\n",
              "      <td>4.0</td>\n",
              "      <td>http://reviews.bestbuy.com/3545/5620406/review...</td>\n",
              "      <td>I've had my Fire HD 8 two weeks now and I love...</td>\n",
              "      <td>Good!!!</td>\n",
              "      <td>NaN</td>\n",
              "      <td>NaN</td>\n",
              "      <td>Shacks</td>\n",
              "    </tr>\n",
              "    <tr>\n",
              "      <th>4</th>\n",
              "      <td>AVqkIhwDv8e3D1O-lebb</td>\n",
              "      <td>All-New Fire HD 8 Tablet, 8 HD Display, Wi-Fi,...</td>\n",
              "      <td>B01AHB9CN2</td>\n",
              "      <td>Amazon</td>\n",
              "      <td>Electronics,iPad &amp; Tablets,All Tablets,Fire Ta...</td>\n",
              "      <td>841667104676,amazon/53004484,amazon/b01ahb9cn2...</td>\n",
              "      <td>Amazon</td>\n",
              "      <td>2017-01-12T00:00:00.000Z</td>\n",
              "      <td>2017-07-03T23:33:15Z</td>\n",
              "      <td>2017-06-07T09:04:00.000Z,2017-04-30T00:45:00.000Z</td>\n",
              "      <td>...</td>\n",
              "      <td>True</td>\n",
              "      <td>NaN</td>\n",
              "      <td>0.0</td>\n",
              "      <td>5.0</td>\n",
              "      <td>http://reviews.bestbuy.com/3545/5620406/review...</td>\n",
              "      <td>I bought this for my grand daughter when she c...</td>\n",
              "      <td>Fantastic Tablet for kids</td>\n",
              "      <td>NaN</td>\n",
              "      <td>NaN</td>\n",
              "      <td>explore42</td>\n",
              "    </tr>\n",
              "    <tr>\n",
              "      <th>...</th>\n",
              "      <td>...</td>\n",
              "      <td>...</td>\n",
              "      <td>...</td>\n",
              "      <td>...</td>\n",
              "      <td>...</td>\n",
              "      <td>...</td>\n",
              "      <td>...</td>\n",
              "      <td>...</td>\n",
              "      <td>...</td>\n",
              "      <td>...</td>\n",
              "      <td>...</td>\n",
              "      <td>...</td>\n",
              "      <td>...</td>\n",
              "      <td>...</td>\n",
              "      <td>...</td>\n",
              "      <td>...</td>\n",
              "      <td>...</td>\n",
              "      <td>...</td>\n",
              "      <td>...</td>\n",
              "      <td>...</td>\n",
              "      <td>...</td>\n",
              "    </tr>\n",
              "    <tr>\n",
              "      <th>34655</th>\n",
              "      <td>AVpfiBlyLJeJML43-4Tp</td>\n",
              "      <td>NaN</td>\n",
              "      <td>B006GWO5WK</td>\n",
              "      <td>Amazon</td>\n",
              "      <td>Computers/Tablets &amp; Networking,Tablet &amp; eBook ...</td>\n",
              "      <td>newamazonkindlefirehd9wpowerfastadaptercharger...</td>\n",
              "      <td>Amazon Digital Services, Inc</td>\n",
              "      <td>2012-09-18T00:00:00Z</td>\n",
              "      <td>NaN</td>\n",
              "      <td>2015-08-29T00:00:00Z</td>\n",
              "      <td>...</td>\n",
              "      <td>NaN</td>\n",
              "      <td>NaN</td>\n",
              "      <td>NaN</td>\n",
              "      <td>3.0</td>\n",
              "      <td>http://www.amazon.com/Amazon-PowerFast-Adapter...</td>\n",
              "      <td>This is not appreciably faster than any other ...</td>\n",
              "      <td>Not appreciably faster than any other 1.8A cha...</td>\n",
              "      <td>NaN</td>\n",
              "      <td>NaN</td>\n",
              "      <td>Kris</td>\n",
              "    </tr>\n",
              "    <tr>\n",
              "      <th>34656</th>\n",
              "      <td>AVpfiBlyLJeJML43-4Tp</td>\n",
              "      <td>NaN</td>\n",
              "      <td>B006GWO5WK</td>\n",
              "      <td>Amazon</td>\n",
              "      <td>Computers/Tablets &amp; Networking,Tablet &amp; eBook ...</td>\n",
              "      <td>newamazonkindlefirehd9wpowerfastadaptercharger...</td>\n",
              "      <td>Amazon Digital Services, Inc</td>\n",
              "      <td>2012-11-21T00:00:00Z</td>\n",
              "      <td>NaN</td>\n",
              "      <td>2015-09-02T00:00:00Z</td>\n",
              "      <td>...</td>\n",
              "      <td>NaN</td>\n",
              "      <td>NaN</td>\n",
              "      <td>NaN</td>\n",
              "      <td>1.0</td>\n",
              "      <td>http://www.amazon.com/Amazon-PowerFast-Adapter...</td>\n",
              "      <td>Amazon should include this charger with the Ki...</td>\n",
              "      <td>Should be included</td>\n",
              "      <td>NaN</td>\n",
              "      <td>NaN</td>\n",
              "      <td>Jonathan Stewart</td>\n",
              "    </tr>\n",
              "    <tr>\n",
              "      <th>34657</th>\n",
              "      <td>AVpfiBlyLJeJML43-4Tp</td>\n",
              "      <td>NaN</td>\n",
              "      <td>B006GWO5WK</td>\n",
              "      <td>Amazon</td>\n",
              "      <td>Computers/Tablets &amp; Networking,Tablet &amp; eBook ...</td>\n",
              "      <td>newamazonkindlefirehd9wpowerfastadaptercharger...</td>\n",
              "      <td>Amazon Digital Services, Inc</td>\n",
              "      <td>2012-10-19T00:00:00Z</td>\n",
              "      <td>NaN</td>\n",
              "      <td>2015-09-04T00:00:00Z</td>\n",
              "      <td>...</td>\n",
              "      <td>NaN</td>\n",
              "      <td>NaN</td>\n",
              "      <td>NaN</td>\n",
              "      <td>1.0</td>\n",
              "      <td>http://www.amazon.com/Amazon-PowerFast-Adapter...</td>\n",
              "      <td>Love my Kindle Fire but I am really disappoint...</td>\n",
              "      <td>Disappointing Charger</td>\n",
              "      <td>NaN</td>\n",
              "      <td>NaN</td>\n",
              "      <td>J Lawson</td>\n",
              "    </tr>\n",
              "    <tr>\n",
              "      <th>34658</th>\n",
              "      <td>AVpfiBlyLJeJML43-4Tp</td>\n",
              "      <td>NaN</td>\n",
              "      <td>B006GWO5WK</td>\n",
              "      <td>Amazon</td>\n",
              "      <td>Computers/Tablets &amp; Networking,Tablet &amp; eBook ...</td>\n",
              "      <td>newamazonkindlefirehd9wpowerfastadaptercharger...</td>\n",
              "      <td>Amazon Digital Services, Inc</td>\n",
              "      <td>2012-10-31T00:00:00Z</td>\n",
              "      <td>NaN</td>\n",
              "      <td>2015-09-01T00:00:00Z</td>\n",
              "      <td>...</td>\n",
              "      <td>NaN</td>\n",
              "      <td>NaN</td>\n",
              "      <td>NaN</td>\n",
              "      <td>1.0</td>\n",
              "      <td>http://www.amazon.com/Amazon-PowerFast-Adapter...</td>\n",
              "      <td>I was surprised to find it did not come with a...</td>\n",
              "      <td>Not worth the money</td>\n",
              "      <td>NaN</td>\n",
              "      <td>NaN</td>\n",
              "      <td>Just the Buyer</td>\n",
              "    </tr>\n",
              "    <tr>\n",
              "      <th>34659</th>\n",
              "      <td>AVpfiBlyLJeJML43-4Tp</td>\n",
              "      <td>NaN</td>\n",
              "      <td>B006GWO5WK</td>\n",
              "      <td>Amazon</td>\n",
              "      <td>Computers/Tablets &amp; Networking,Tablet &amp; eBook ...</td>\n",
              "      <td>newamazonkindlefirehd9wpowerfastadaptercharger...</td>\n",
              "      <td>Amazon Digital Services, Inc</td>\n",
              "      <td>2012-12-23T00:00:00Z</td>\n",
              "      <td>NaN</td>\n",
              "      <td>2015-11-01T00:00:00Z</td>\n",
              "      <td>...</td>\n",
              "      <td>NaN</td>\n",
              "      <td>NaN</td>\n",
              "      <td>NaN</td>\n",
              "      <td>1.0</td>\n",
              "      <td>http://www.amazon.com/Amazon-PowerFast-Adapter...</td>\n",
              "      <td>to spite the fact that i have nothing but good...</td>\n",
              "      <td>as with everyone else</td>\n",
              "      <td>NaN</td>\n",
              "      <td>NaN</td>\n",
              "      <td>sandi</td>\n",
              "    </tr>\n",
              "  </tbody>\n",
              "</table>\n",
              "<p>34660 rows × 21 columns</p>\n",
              "</div>\n",
              "      <button class=\"colab-df-convert\" onclick=\"convertToInteractive('df-5d930f7f-abac-4edc-9446-db3644b75c21')\"\n",
              "              title=\"Convert this dataframe to an interactive table.\"\n",
              "              style=\"display:none;\">\n",
              "        \n",
              "  <svg xmlns=\"http://www.w3.org/2000/svg\" height=\"24px\"viewBox=\"0 0 24 24\"\n",
              "       width=\"24px\">\n",
              "    <path d=\"M0 0h24v24H0V0z\" fill=\"none\"/>\n",
              "    <path d=\"M18.56 5.44l.94 2.06.94-2.06 2.06-.94-2.06-.94-.94-2.06-.94 2.06-2.06.94zm-11 1L8.5 8.5l.94-2.06 2.06-.94-2.06-.94L8.5 2.5l-.94 2.06-2.06.94zm10 10l.94 2.06.94-2.06 2.06-.94-2.06-.94-.94-2.06-.94 2.06-2.06.94z\"/><path d=\"M17.41 7.96l-1.37-1.37c-.4-.4-.92-.59-1.43-.59-.52 0-1.04.2-1.43.59L10.3 9.45l-7.72 7.72c-.78.78-.78 2.05 0 2.83L4 21.41c.39.39.9.59 1.41.59.51 0 1.02-.2 1.41-.59l7.78-7.78 2.81-2.81c.8-.78.8-2.07 0-2.86zM5.41 20L4 18.59l7.72-7.72 1.47 1.35L5.41 20z\"/>\n",
              "  </svg>\n",
              "      </button>\n",
              "      \n",
              "  <style>\n",
              "    .colab-df-container {\n",
              "      display:flex;\n",
              "      flex-wrap:wrap;\n",
              "      gap: 12px;\n",
              "    }\n",
              "\n",
              "    .colab-df-convert {\n",
              "      background-color: #E8F0FE;\n",
              "      border: none;\n",
              "      border-radius: 50%;\n",
              "      cursor: pointer;\n",
              "      display: none;\n",
              "      fill: #1967D2;\n",
              "      height: 32px;\n",
              "      padding: 0 0 0 0;\n",
              "      width: 32px;\n",
              "    }\n",
              "\n",
              "    .colab-df-convert:hover {\n",
              "      background-color: #E2EBFA;\n",
              "      box-shadow: 0px 1px 2px rgba(60, 64, 67, 0.3), 0px 1px 3px 1px rgba(60, 64, 67, 0.15);\n",
              "      fill: #174EA6;\n",
              "    }\n",
              "\n",
              "    [theme=dark] .colab-df-convert {\n",
              "      background-color: #3B4455;\n",
              "      fill: #D2E3FC;\n",
              "    }\n",
              "\n",
              "    [theme=dark] .colab-df-convert:hover {\n",
              "      background-color: #434B5C;\n",
              "      box-shadow: 0px 1px 3px 1px rgba(0, 0, 0, 0.15);\n",
              "      filter: drop-shadow(0px 1px 2px rgba(0, 0, 0, 0.3));\n",
              "      fill: #FFFFFF;\n",
              "    }\n",
              "  </style>\n",
              "\n",
              "      <script>\n",
              "        const buttonEl =\n",
              "          document.querySelector('#df-5d930f7f-abac-4edc-9446-db3644b75c21 button.colab-df-convert');\n",
              "        buttonEl.style.display =\n",
              "          google.colab.kernel.accessAllowed ? 'block' : 'none';\n",
              "\n",
              "        async function convertToInteractive(key) {\n",
              "          const element = document.querySelector('#df-5d930f7f-abac-4edc-9446-db3644b75c21');\n",
              "          const dataTable =\n",
              "            await google.colab.kernel.invokeFunction('convertToInteractive',\n",
              "                                                     [key], {});\n",
              "          if (!dataTable) return;\n",
              "\n",
              "          const docLinkHtml = 'Like what you see? Visit the ' +\n",
              "            '<a target=\"_blank\" href=https://colab.research.google.com/notebooks/data_table.ipynb>data table notebook</a>'\n",
              "            + ' to learn more about interactive tables.';\n",
              "          element.innerHTML = '';\n",
              "          dataTable['output_type'] = 'display_data';\n",
              "          await google.colab.output.renderOutput(dataTable, element);\n",
              "          const docLink = document.createElement('div');\n",
              "          docLink.innerHTML = docLinkHtml;\n",
              "          element.appendChild(docLink);\n",
              "        }\n",
              "      </script>\n",
              "    </div>\n",
              "  </div>\n",
              "  "
            ]
          },
          "metadata": {},
          "execution_count": 13
        }
      ]
    },
    {
      "cell_type": "code",
      "metadata": {
        "id": "cv6h3f_yQjNn",
        "colab": {
          "base_uri": "https://localhost:8080/"
        },
        "outputId": "6f4ead52-2154-40e0-8a8b-6577eb896f3d"
      },
      "source": [
        "x=data.iloc[:, 16:17].values\n",
        "x"
      ],
      "execution_count": null,
      "outputs": [
        {
          "output_type": "execute_result",
          "data": {
            "text/plain": [
              "array([['This product so far has not disappointed. My children love to use it and I like the ability to monitor control what content they see with ease.'],\n",
              "       ['great for beginner or experienced person. Bought as a gift and she loves it'],\n",
              "       ['Inexpensive tablet for him to use and learn on, step up from the NABI. He was thrilled with it, learn how to Skype on it already...'],\n",
              "       ...,\n",
              "       [\"Love my Kindle Fire but I am really disappointed in the Kindle Power Fast Charging Unit. I've had it two months and I've used it many times - The first two times it worked okay but failerd on the third and many subsequent tries. I've disposed of it and use my wife's iPad Nano charger which always works just fine.\"],\n",
              "       [\"I was surprised to find it did not come with any type of charging cords so I had to purchase one and then found my Sprint HTC 3D charger is faster. I would not purchase again- 1st item I've ever not liked I've purchased from Amazon\"],\n",
              "       [\"to spite the fact that i have nothing but good things to say about amazon and anthing i've ever gotten from them. and that i love my fire. i find it greedy that the wall charger doesn't come with the kindle. not everyone, ok most people, but still not everyone has a usb port to plug into. i'm taking my charger back. i think amazon should make things right and let anyone who purchased a kindle without a charger have one for free, or credit those who had to buy one.\"]],\n",
              "      dtype=object)"
            ]
          },
          "metadata": {},
          "execution_count": 62
        }
      ]
    },
    {
      "cell_type": "code",
      "metadata": {
        "id": "gWSr1hGnbfK7",
        "colab": {
          "base_uri": "https://localhost:8080/"
        },
        "outputId": "b8251abb-ee7c-4f47-f4cd-6c81bccf351b"
      },
      "source": [
        "print(len(x))"
      ],
      "execution_count": null,
      "outputs": [
        {
          "output_type": "stream",
          "name": "stdout",
          "text": [
            "34660\n"
          ]
        }
      ]
    },
    {
      "cell_type": "code",
      "metadata": {
        "id": "c27Fm7MtPwLb",
        "colab": {
          "base_uri": "https://localhost:8080/"
        },
        "outputId": "794fd19c-0dd3-479f-83cd-e56fc2820728"
      },
      "source": [
        "y=data.iloc[:, 14:15].values\n",
        "y"
      ],
      "execution_count": null,
      "outputs": [
        {
          "output_type": "execute_result",
          "data": {
            "text/plain": [
              "array([[5.],\n",
              "       [5.],\n",
              "       [5.],\n",
              "       ...,\n",
              "       [1.],\n",
              "       [1.],\n",
              "       [1.]])"
            ]
          },
          "metadata": {},
          "execution_count": 63
        }
      ]
    },
    {
      "cell_type": "markdown",
      "source": [
        "# Nlp "
      ],
      "metadata": {
        "id": "whU7043t4p7F"
      }
    },
    {
      "cell_type": "code",
      "metadata": {
        "id": "msVZRAkmQwU3",
        "colab": {
          "base_uri": "https://localhost:8080/"
        },
        "outputId": "00b0e472-8947-4cdb-d014-eb0681e93f8c"
      },
      "source": [
        "import re\n",
        "import nltk\n",
        "nltk.download('stopwords')\n",
        "from nltk.corpus import stopwords\n",
        "from nltk.stem.porter import PorterStemmer\n",
        "corpus = []\n",
        "for i in range(0, 34660):\n",
        "  review = re.sub('[^a-zA-Z]', ' ', data['reviews.text'][i])\n",
        "  review = review.lower()\n",
        "  review = review.split()\n",
        "  ps = PorterStemmer()\n",
        "  all_stopwords = stopwords.words('english')\n",
        "  all_stopwords.remove('not')\n",
        "  review = [ps.stem(word) for word in review if not word in set(all_stopwords)]\n",
        "  review = ' '.join(review)\n",
        "  corpus.append(review)"
      ],
      "execution_count": null,
      "outputs": [
        {
          "output_type": "stream",
          "name": "stdout",
          "text": [
            "[nltk_data] Downloading package stopwords to /root/nltk_data...\n",
            "[nltk_data]   Package stopwords is already up-to-date!\n"
          ]
        }
      ]
    },
    {
      "cell_type": "code",
      "metadata": {
        "id": "AcY5QCPKRgt4",
        "colab": {
          "base_uri": "https://localhost:8080/"
        },
        "outputId": "62141c3c-f8b4-4e09-e776-b3b1801f4cf8"
      },
      "source": [
        "print(corpus)"
      ],
      "execution_count": null,
      "outputs": [
        {
          "output_type": "stream",
          "name": "stderr",
          "text": [
            "IOPub data rate exceeded.\n",
            "The notebook server will temporarily stop sending output\n",
            "to the client in order to avoid crashing it.\n",
            "To change this limit, set the config variable\n",
            "`--NotebookApp.iopub_data_rate_limit`.\n",
            "\n",
            "Current values:\n",
            "NotebookApp.iopub_data_rate_limit=1000000.0 (bytes/sec)\n",
            "NotebookApp.rate_limit_window=3.0 (secs)\n",
            "\n"
          ]
        }
      ]
    },
    {
      "cell_type": "code",
      "metadata": {
        "id": "UVVsJ3xnRjlw"
      },
      "source": [
        "from sklearn.feature_extraction.text import TfidfVectorizer\n",
        "tf= TfidfVectorizer(max_features=8000)\n",
        "x=tf.fit_transform(corpus)"
      ],
      "execution_count": null,
      "outputs": []
    },
    {
      "cell_type": "code",
      "metadata": {
        "id": "N1VEwjEZcfMW",
        "colab": {
          "base_uri": "https://localhost:8080/"
        },
        "outputId": "fc2f9fc3-573c-4d0d-ab09-27ccc9978709"
      },
      "source": [
        "print(x)"
      ],
      "execution_count": null,
      "outputs": [
        {
          "output_type": "stream",
          "name": "stdout",
          "text": [
            "  (0, 2239)\t0.3181302130177679\n",
            "  (0, 5844)\t0.28452676064927834\n",
            "  (0, 1683)\t0.30581114054274827\n",
            "  (0, 1698)\t0.24692690341635468\n",
            "  (0, 4457)\t0.42112995796649605\n",
            "  (0, 8)\t0.3134477394143209\n",
            "  (0, 4031)\t0.17829299473173213\n",
            "  (0, 7413)\t0.13038332458902685\n",
            "  (0, 4128)\t0.13199216042598783\n",
            "  (0, 1391)\t0.3009860666186644\n",
            "  (0, 2095)\t0.3209929360589084\n",
            "  (0, 4707)\t0.17185964460009345\n",
            "  (0, 2466)\t0.2553543949204502\n",
            "  (0, 5422)\t0.18210875439492477\n",
            "  (1, 2821)\t0.29214636284800294\n",
            "  (1, 1007)\t0.23260110552963048\n",
            "  (1, 5172)\t0.4247090562721062\n",
            "  (1, 2414)\t0.6275513827087322\n",
            "  (1, 781)\t0.47191658169571454\n",
            "  (1, 2994)\t0.17287997839574354\n",
            "  (1, 4128)\t0.18372795364998512\n",
            "  (2, 264)\t0.2709650394262134\n",
            "  (2, 6069)\t0.40045635282869735\n",
            "  (2, 6928)\t0.36388309617863773\n",
            "  (2, 4570)\t0.4217443578757954\n",
            "  :\t:\n",
            "  (34659, 5793)\t0.11292915521625557\n",
            "  (34659, 7801)\t0.11041251776624432\n",
            "  (34659, 2526)\t0.11384167145240826\n",
            "  (34659, 1152)\t0.08621391137826734\n",
            "  (34659, 5717)\t0.11748961152131765\n",
            "  (34659, 6451)\t0.10610850531313777\n",
            "  (34659, 391)\t0.12370408282418263\n",
            "  (34659, 6896)\t0.18708300725552224\n",
            "  (34659, 6727)\t0.10520920366146139\n",
            "  (34659, 2444)\t0.1319585487053682\n",
            "  (34659, 3813)\t0.14755460742381396\n",
            "  (34659, 2896)\t0.07213932951865604\n",
            "  (34659, 2928)\t0.16230883836187007\n",
            "  (34659, 5472)\t0.07709599256553266\n",
            "  (34659, 2369)\t0.12403592105408541\n",
            "  (34659, 5136)\t0.14027305706534862\n",
            "  (34659, 4844)\t0.1478629537263707\n",
            "  (34659, 6902)\t0.11456593651784054\n",
            "  (34659, 4174)\t0.09785261433443673\n",
            "  (34659, 300)\t0.14153474727377868\n",
            "  (34659, 1541)\t0.11867698763373255\n",
            "  (34659, 630)\t0.11544549128013902\n",
            "  (34659, 2536)\t0.07549444202615055\n",
            "  (34659, 4128)\t0.05570901123036516\n",
            "  (34659, 4707)\t0.1450712048378311\n"
          ]
        }
      ]
    },
    {
      "cell_type": "code",
      "metadata": {
        "id": "apuge7RmR8QU"
      },
      "source": [
        "from sklearn.model_selection import train_test_split\n",
        "x_train, x_test, y_train, y_test = train_test_split(x, y, test_size = 0.15)"
      ],
      "execution_count": null,
      "outputs": []
    },
    {
      "cell_type": "code",
      "metadata": {
        "id": "Mt4qrW8QU8oB",
        "colab": {
          "base_uri": "https://localhost:8080/"
        },
        "outputId": "5ca750ad-d519-4b49-a7e3-3c51f8669bf2"
      },
      "source": [
        "x_train"
      ],
      "execution_count": null,
      "outputs": [
        {
          "output_type": "execute_result",
          "data": {
            "text/plain": [
              "<29461x9136 sparse matrix of type '<class 'numpy.float64'>'\n",
              "\twith 405967 stored elements in Compressed Sparse Row format>"
            ]
          },
          "metadata": {},
          "execution_count": 22
        }
      ]
    },
    {
      "cell_type": "code",
      "metadata": {
        "id": "Nusghk1EU_nm",
        "colab": {
          "base_uri": "https://localhost:8080/"
        },
        "outputId": "84e0b47b-a9ee-4dc9-8713-9c08723c9963"
      },
      "source": [
        "y_train"
      ],
      "execution_count": null,
      "outputs": [
        {
          "output_type": "execute_result",
          "data": {
            "text/plain": [
              "array([[5.],\n",
              "       [5.],\n",
              "       [5.],\n",
              "       ...,\n",
              "       [5.],\n",
              "       [5.],\n",
              "       [5.]])"
            ]
          },
          "metadata": {},
          "execution_count": 23
        }
      ]
    },
    {
      "cell_type": "code",
      "metadata": {
        "id": "yRgutsNDSbNv"
      },
      "source": [
        "from xgboost import XGBClassifier\n",
        "modelA = XGBClassifier(n_estimators=100)"
      ],
      "execution_count": null,
      "outputs": []
    },
    {
      "cell_type": "code",
      "metadata": {
        "id": "AwvAv1wVUk-8",
        "colab": {
          "base_uri": "https://localhost:8080/"
        },
        "outputId": "842c2e02-d48f-4c1d-c2fb-8c0a72788af6"
      },
      "source": [
        "modelA.fit(x_train, y_train)"
      ],
      "execution_count": null,
      "outputs": [
        {
          "output_type": "stream",
          "name": "stderr",
          "text": [
            "/usr/local/lib/python3.7/dist-packages/sklearn/preprocessing/_label.py:98: DataConversionWarning: A column-vector y was passed when a 1d array was expected. Please change the shape of y to (n_samples, ), for example using ravel().\n",
            "  y = column_or_1d(y, warn=True)\n",
            "/usr/local/lib/python3.7/dist-packages/sklearn/preprocessing/_label.py:133: DataConversionWarning: A column-vector y was passed when a 1d array was expected. Please change the shape of y to (n_samples, ), for example using ravel().\n",
            "  y = column_or_1d(y, warn=True)\n"
          ]
        },
        {
          "output_type": "execute_result",
          "data": {
            "text/plain": [
              "XGBClassifier(objective='multi:softprob')"
            ]
          },
          "metadata": {},
          "execution_count": 70
        }
      ]
    },
    {
      "cell_type": "code",
      "metadata": {
        "id": "tvviPx2Pr_9T"
      },
      "source": [
        "y_pred = modelA.predict(x_test)"
      ],
      "execution_count": null,
      "outputs": []
    },
    {
      "cell_type": "code",
      "metadata": {
        "colab": {
          "base_uri": "https://localhost:8080/"
        },
        "id": "QNINsl7r0sI0",
        "outputId": "6475b010-3b55-45d6-b36e-8bc303ca1d31"
      },
      "source": [
        "from sklearn.metrics import confusion_matrix, accuracy_score\n",
        "cm = confusion_matrix(y_test, y_pred)\n",
        "accuracy_score(y_test, y_pred)"
      ],
      "execution_count": null,
      "outputs": [
        {
          "output_type": "execute_result",
          "data": {
            "text/plain": [
              "0.7128293902673591"
            ]
          },
          "metadata": {},
          "execution_count": 72
        }
      ]
    },
    {
      "cell_type": "markdown",
      "source": [
        "# Second model\n",
        "ANN"
      ],
      "metadata": {
        "id": "axRHSJ7Y41wh"
      }
    },
    {
      "cell_type": "code",
      "source": [
        "from keras.layers import Dense, Dropout\n",
        "from keras.models import Sequential"
      ],
      "metadata": {
        "id": "cAndbY9t46wg"
      },
      "execution_count": null,
      "outputs": []
    },
    {
      "cell_type": "code",
      "source": [
        "modelB = Sequential([\n",
        "                    Dense(units=128, activation='relu'),\n",
        "                    Dropout(0.2),\n",
        "                    Dense(units=64, activation='relu'),\n",
        "                    Dropout(0.2),\n",
        "                    Dense(units=16, activation='relu'),\n",
        "                    Dense(6, activation='softmax')\n",
        "])\n",
        "\n",
        "#compiling the model\n",
        "modelB.compile(loss='sparse_categorical_crossentropy', optimizer='adam', metrics=['accuracy'])"
      ],
      "metadata": {
        "id": "CVDchb-s5mL_"
      },
      "execution_count": null,
      "outputs": []
    },
    {
      "cell_type": "code",
      "source": [
        ""
      ],
      "metadata": {
        "id": "-XI38pepFMK4"
      },
      "execution_count": null,
      "outputs": []
    },
    {
      "cell_type": "code",
      "source": [
        "x_train.shape"
      ],
      "metadata": {
        "id": "QgTh9eFz9lKb",
        "outputId": "443034d7-091f-443d-cb76-1e219c3e382f",
        "colab": {
          "base_uri": "https://localhost:8080/"
        }
      },
      "execution_count": null,
      "outputs": [
        {
          "output_type": "execute_result",
          "data": {
            "text/plain": [
              "(29461, 8000)"
            ]
          },
          "metadata": {},
          "execution_count": 75
        }
      ]
    },
    {
      "cell_type": "code",
      "source": [
        "y_train.shape"
      ],
      "metadata": {
        "id": "pPh6J_X19zQH",
        "outputId": "dce6cf17-6cc5-42a6-8bdb-271445d5a625",
        "colab": {
          "base_uri": "https://localhost:8080/"
        }
      },
      "execution_count": null,
      "outputs": [
        {
          "output_type": "execute_result",
          "data": {
            "text/plain": [
              "(29461, 1)"
            ]
          },
          "metadata": {},
          "execution_count": 76
        }
      ]
    },
    {
      "cell_type": "code",
      "source": [
        "type(x_train)"
      ],
      "metadata": {
        "id": "bZs-vIyv-EWK",
        "outputId": "38521f39-c3c0-41da-fdff-8d6983abc975",
        "colab": {
          "base_uri": "https://localhost:8080/"
        }
      },
      "execution_count": null,
      "outputs": [
        {
          "output_type": "execute_result",
          "data": {
            "text/plain": [
              "scipy.sparse.csr.csr_matrix"
            ]
          },
          "metadata": {},
          "execution_count": 77
        }
      ]
    },
    {
      "cell_type": "code",
      "source": [
        "type(y_train)"
      ],
      "metadata": {
        "id": "HtIe6uYT-Lrh",
        "outputId": "9ae940a5-4ba3-4879-88d9-83b906d88308",
        "colab": {
          "base_uri": "https://localhost:8080/"
        }
      },
      "execution_count": null,
      "outputs": [
        {
          "output_type": "execute_result",
          "data": {
            "text/plain": [
              "numpy.ndarray"
            ]
          },
          "metadata": {},
          "execution_count": 78
        }
      ]
    },
    {
      "cell_type": "code",
      "source": [
        "import scipy"
      ],
      "metadata": {
        "id": "NhMPl_gn_QOZ"
      },
      "execution_count": null,
      "outputs": []
    },
    {
      "cell_type": "code",
      "source": [
        "x_train = scipy.sparse.csr_matrix.toarray(x_train)"
      ],
      "metadata": {
        "id": "uFxctTjk-SSV"
      },
      "execution_count": null,
      "outputs": []
    },
    {
      "cell_type": "code",
      "source": [
        "x_train.shape"
      ],
      "metadata": {
        "id": "filtRAN87E-f",
        "outputId": "09b3c9d8-fbb8-4f2f-f485-6ea1f245cb6c",
        "colab": {
          "base_uri": "https://localhost:8080/"
        }
      },
      "execution_count": null,
      "outputs": [
        {
          "output_type": "execute_result",
          "data": {
            "text/plain": [
              "(29461, 8000)"
            ]
          },
          "metadata": {},
          "execution_count": 82
        }
      ]
    },
    {
      "cell_type": "code",
      "source": [
        "type(x_train)"
      ],
      "metadata": {
        "id": "oPRBW30X_mMQ",
        "outputId": "5a055a13-89f1-4ad3-e826-4d41b28d90a5",
        "colab": {
          "base_uri": "https://localhost:8080/"
        }
      },
      "execution_count": null,
      "outputs": [
        {
          "output_type": "execute_result",
          "data": {
            "text/plain": [
              "numpy.ndarray"
            ]
          },
          "metadata": {},
          "execution_count": 83
        }
      ]
    },
    {
      "cell_type": "code",
      "source": [
        "unique_elements, counts_elements = np.unique(y_train, return_counts=True)\n",
        "print(\"Frequency of unique values of the said array:\")\n",
        "print(np.asarray((unique_elements, counts_elements)))\n"
      ],
      "metadata": {
        "id": "qN52PxZeE4FJ",
        "outputId": "957bd3fa-7546-49e2-9c8d-9d99e3231eb4",
        "colab": {
          "base_uri": "https://localhost:8080/"
        }
      },
      "execution_count": null,
      "outputs": [
        {
          "output_type": "stream",
          "name": "stdout",
          "text": [
            "Frequency of unique values of the said array:\n",
            "[[1.0000e+00 2.0000e+00 3.0000e+00 4.0000e+00 5.0000e+00]\n",
            " [3.5700e+02 3.4700e+02 1.2660e+03 7.2990e+03 2.0192e+04]]\n"
          ]
        }
      ]
    },
    {
      "cell_type": "code",
      "source": [
        "#fitting the model\n",
        "history = modelB.fit(x_train, y_train, batch_size=32, epochs=30, validation_data=(x_test, y_test))"
      ],
      "metadata": {
        "id": "-_ZgL3nC7D4U",
        "outputId": "a099ad74-b754-4581-efa7-f3c01df852bc",
        "colab": {
          "base_uri": "https://localhost:8080/"
        }
      },
      "execution_count": null,
      "outputs": [
        {
          "output_type": "stream",
          "name": "stdout",
          "text": [
            "Epoch 1/30\n",
            "921/921 [==============================] - 10s 11ms/step - loss: 0.6484 - accuracy: 0.7343 - val_loss: 0.6927 - val_accuracy: 0.7163\n",
            "Epoch 2/30\n",
            "921/921 [==============================] - 10s 10ms/step - loss: 0.5784 - accuracy: 0.7649 - val_loss: 0.7200 - val_accuracy: 0.7178\n",
            "Epoch 3/30\n",
            "921/921 [==============================] - 10s 10ms/step - loss: 0.5052 - accuracy: 0.7986 - val_loss: 0.7830 - val_accuracy: 0.7032\n",
            "Epoch 4/30\n",
            "921/921 [==============================] - 10s 10ms/step - loss: 0.4219 - accuracy: 0.8330 - val_loss: 0.8598 - val_accuracy: 0.6936\n",
            "Epoch 5/30\n",
            "921/921 [==============================] - 10s 10ms/step - loss: 0.3440 - accuracy: 0.8625 - val_loss: 0.9854 - val_accuracy: 0.6965\n",
            "Epoch 6/30\n",
            "921/921 [==============================] - 10s 10ms/step - loss: 0.2832 - accuracy: 0.8860 - val_loss: 1.1526 - val_accuracy: 0.6807\n",
            "Epoch 7/30\n",
            "921/921 [==============================] - 10s 11ms/step - loss: 0.2375 - accuracy: 0.9058 - val_loss: 1.2186 - val_accuracy: 0.6842\n",
            "Epoch 8/30\n",
            "921/921 [==============================] - 10s 11ms/step - loss: 0.1938 - accuracy: 0.9241 - val_loss: 1.4931 - val_accuracy: 0.6778\n",
            "Epoch 9/30\n",
            "921/921 [==============================] - 10s 11ms/step - loss: 0.1686 - accuracy: 0.9322 - val_loss: 1.5732 - val_accuracy: 0.6715\n",
            "Epoch 10/30\n",
            "921/921 [==============================] - 10s 10ms/step - loss: 0.1466 - accuracy: 0.9432 - val_loss: 1.7048 - val_accuracy: 0.6786\n",
            "Epoch 11/30\n",
            "921/921 [==============================] - 10s 10ms/step - loss: 0.1302 - accuracy: 0.9499 - val_loss: 1.8648 - val_accuracy: 0.6821\n",
            "Epoch 12/30\n",
            "921/921 [==============================] - 11s 12ms/step - loss: 0.1180 - accuracy: 0.9544 - val_loss: 1.8525 - val_accuracy: 0.6638\n",
            "Epoch 13/30\n",
            "921/921 [==============================] - 10s 11ms/step - loss: 0.1067 - accuracy: 0.9595 - val_loss: 1.8876 - val_accuracy: 0.6709\n",
            "Epoch 14/30\n",
            "921/921 [==============================] - 10s 10ms/step - loss: 0.0969 - accuracy: 0.9634 - val_loss: 1.9959 - val_accuracy: 0.6784\n",
            "Epoch 15/30\n",
            "921/921 [==============================] - 9s 10ms/step - loss: 0.0882 - accuracy: 0.9667 - val_loss: 2.1076 - val_accuracy: 0.6803\n",
            "Epoch 16/30\n",
            "921/921 [==============================] - 10s 10ms/step - loss: 0.0799 - accuracy: 0.9697 - val_loss: 2.1608 - val_accuracy: 0.6624\n",
            "Epoch 17/30\n",
            "921/921 [==============================] - 10s 10ms/step - loss: 0.0765 - accuracy: 0.9714 - val_loss: 2.2249 - val_accuracy: 0.6703\n",
            "Epoch 18/30\n",
            "921/921 [==============================] - 10s 11ms/step - loss: 0.0719 - accuracy: 0.9737 - val_loss: 2.3248 - val_accuracy: 0.6709\n",
            "Epoch 19/30\n",
            "921/921 [==============================] - 10s 11ms/step - loss: 0.0699 - accuracy: 0.9735 - val_loss: 2.2372 - val_accuracy: 0.6634\n",
            "Epoch 20/30\n",
            "921/921 [==============================] - 9s 10ms/step - loss: 0.0600 - accuracy: 0.9777 - val_loss: 2.3514 - val_accuracy: 0.6728\n",
            "Epoch 21/30\n",
            "921/921 [==============================] - 10s 11ms/step - loss: 0.0604 - accuracy: 0.9778 - val_loss: 2.3946 - val_accuracy: 0.6740\n",
            "Epoch 22/30\n",
            "921/921 [==============================] - 9s 10ms/step - loss: 0.0609 - accuracy: 0.9775 - val_loss: 2.3657 - val_accuracy: 0.6821\n",
            "Epoch 23/30\n",
            "921/921 [==============================] - 9s 10ms/step - loss: 0.0556 - accuracy: 0.9793 - val_loss: 2.3161 - val_accuracy: 0.6655\n",
            "Epoch 24/30\n",
            "921/921 [==============================] - 10s 11ms/step - loss: 0.0525 - accuracy: 0.9807 - val_loss: 2.3866 - val_accuracy: 0.6621\n",
            "Epoch 25/30\n",
            "921/921 [==============================] - 10s 11ms/step - loss: 0.0480 - accuracy: 0.9823 - val_loss: 2.4307 - val_accuracy: 0.6592\n",
            "Epoch 26/30\n",
            "921/921 [==============================] - 10s 10ms/step - loss: 0.0455 - accuracy: 0.9833 - val_loss: 2.5254 - val_accuracy: 0.6749\n",
            "Epoch 27/30\n",
            "921/921 [==============================] - 10s 10ms/step - loss: 0.0466 - accuracy: 0.9829 - val_loss: 2.4336 - val_accuracy: 0.6613\n",
            "Epoch 28/30\n",
            "921/921 [==============================] - 10s 11ms/step - loss: 0.0427 - accuracy: 0.9838 - val_loss: 2.5317 - val_accuracy: 0.6678\n",
            "Epoch 29/30\n",
            "921/921 [==============================] - 10s 11ms/step - loss: 0.0393 - accuracy: 0.9862 - val_loss: 2.5769 - val_accuracy: 0.6819\n",
            "Epoch 30/30\n",
            "921/921 [==============================] - 10s 10ms/step - loss: 0.0385 - accuracy: 0.9863 - val_loss: 2.7309 - val_accuracy: 0.6776\n"
          ]
        }
      ]
    },
    {
      "cell_type": "markdown",
      "source": [
        "# model_evaluation"
      ],
      "metadata": {
        "id": "ZnSyF3Wso5Cy"
      }
    },
    {
      "cell_type": "code",
      "source": [
        "type(x_test)"
      ],
      "metadata": {
        "colab": {
          "base_uri": "https://localhost:8080/"
        },
        "id": "QHUKbdKm-N3M",
        "outputId": "8389ce26-abc7-4578-d212-9c3efe9e8ff3"
      },
      "execution_count": null,
      "outputs": [
        {
          "output_type": "execute_result",
          "data": {
            "text/plain": [
              "numpy.ndarray"
            ]
          },
          "metadata": {},
          "execution_count": 87
        }
      ]
    },
    {
      "cell_type": "code",
      "source": [
        "x_test = scipy.sparse.csr_matrix.toarray(x_test)"
      ],
      "metadata": {
        "id": "sdCyf8ov8sFL"
      },
      "execution_count": null,
      "outputs": []
    },
    {
      "cell_type": "code",
      "source": [
        "modelB.evaluate(x_test, y_test)"
      ],
      "metadata": {
        "colab": {
          "base_uri": "https://localhost:8080/"
        },
        "id": "S_tcIetC-bt5",
        "outputId": "6b2ebca1-9753-4cac-d520-2164e2a21c6d"
      },
      "execution_count": null,
      "outputs": [
        {
          "output_type": "stream",
          "name": "stdout",
          "text": [
            "163/163 [==============================] - 1s 5ms/step - loss: 2.7309 - accuracy: 0.6776\n"
          ]
        },
        {
          "output_type": "execute_result",
          "data": {
            "text/plain": [
              "[2.73087477684021, 0.6776303052902222]"
            ]
          },
          "metadata": {},
          "execution_count": 89
        }
      ]
    },
    {
      "cell_type": "code",
      "source": [
        "print(history.history.keys())"
      ],
      "metadata": {
        "colab": {
          "base_uri": "https://localhost:8080/"
        },
        "id": "LCLyx6vXo8CT",
        "outputId": "fd5f03ac-868f-4e30-8a09-c8cbb4ddf7bf"
      },
      "execution_count": null,
      "outputs": [
        {
          "output_type": "stream",
          "name": "stdout",
          "text": [
            "dict_keys(['loss', 'accuracy', 'val_loss', 'val_accuracy'])\n"
          ]
        }
      ]
    },
    {
      "cell_type": "code",
      "source": [
        "import matplotlib.pyplot as plt"
      ],
      "metadata": {
        "id": "gJdvnB8A74pQ"
      },
      "execution_count": null,
      "outputs": []
    },
    {
      "cell_type": "code",
      "source": [
        "# summarize history for accuracy\n",
        "plt.plot(history.history['accuracy'])\n",
        "plt.plot(history.history['val_accuracy'])\n",
        "plt.title('model accuracy')\n",
        "plt.ylabel('accuracy')\n",
        "plt.xlabel('epoch')\n",
        "plt.legend(['train', 'test'], loc='upper left')\n",
        "plt.show()\n"
      ],
      "metadata": {
        "colab": {
          "base_uri": "https://localhost:8080/",
          "height": 295
        },
        "id": "knkg_8yz8Mpo",
        "outputId": "06ad2691-e992-4437-d779-038fd2060ce5"
      },
      "execution_count": null,
      "outputs": [
        {
          "output_type": "display_data",
          "data": {
            "text/plain": [
              "<Figure size 432x288 with 1 Axes>"
            ],
            "image/png": "[encoded data removed]"
          },
          "metadata": {
            "needs_background": "light"
          }
        }
      ]
    },
    {
      "cell_type": "code",
      "source": [
        "# summarize history for loss\n",
        "plt.plot(history.history['loss'])\n",
        "plt.plot(history.history['val_loss'])\n",
        "plt.title('model loss')\n",
        "plt.ylabel('loss')\n",
        "plt.xlabel('epoch')\n",
        "plt.legend(['train', 'test'], loc='upper left')\n",
        "plt.show()"
      ],
      "metadata": {
        "colab": {
          "base_uri": "https://localhost:8080/",
          "height": 295
        },
        "id": "NsTuuX2I8UJc",
        "outputId": "c8100dd7-fcd7-4c97-e553-2eb6f7d2ca7b"
      },
      "execution_count": null,
      "outputs": [
        {
          "output_type": "display_data",
          "data": {
            "text/plain": [
              "<Figure size 432x288 with 1 Axes>"
            ],
            "image/png": "[encoded data removed]"
          },
          "metadata": {
            "needs_background": "light"
          }
        }
      ]
    },
    {
      "cell_type": "markdown",
      "source": [
        "# saving the weights"
      ],
      "metadata": {
        "id": "TynfpatNo8aY"
      }
    },
    {
      "cell_type": "code",
      "source": [
        "modelB.save('amazon_rev.h5')"
      ],
      "metadata": {
        "id": "6pfSRIxTJ1s2"
      },
      "execution_count": null,
      "outputs": []
    },
    {
      "cell_type": "code",
      "source": [
        "l1 = []\n",
        "the_input = input('enter the rev: ')\n",
        "review = re.sub('[^a-zA-Z]', ' ', the_input)\n",
        "review = review.lower()\n",
        "review = review.split()\n",
        "ps = PorterStemmer()\n",
        "all_stopwords = stopwords.words('english')\n",
        "all_stopwords.remove('not')\n",
        "review = [ps.stem(word) for word in review if not word in set(all_stopwords)]\n",
        "review = ' '.join(review)\n",
        "l1.append(review)\n",
        "x_new = tf.transform(l1)\n",
        "sent = modelB.predict(x_new)\n",
        "print(np.argmax(sent))"
      ],
      "metadata": {
        "colab": {
          "base_uri": "https://localhost:8080/"
        },
        "id": "XlLTroHso_KB",
        "outputId": "e1efdafa-c07c-4b75-e303-0e4f95e38add"
      },
      "execution_count": null,
      "outputs": [
        {
          "output_type": "stream",
          "name": "stdout",
          "text": [
            "enter the rev: Didn't have some \n",
            "2\n"
          ]
        }
      ]
    }
  ]
}